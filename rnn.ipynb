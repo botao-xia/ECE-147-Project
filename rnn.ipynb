{
 "cells": [
  {
   "cell_type": "code",
   "execution_count": 1,
   "id": "ca61893c-564f-4975-8826-adbd96187b39",
   "metadata": {},
   "outputs": [
    {
     "name": "stderr",
     "output_type": "stream",
     "text": [
      "/home/danny/miniconda3/envs/rl/lib/python3.7/site-packages/tqdm/auto.py:21: TqdmWarning: IProgress not found. Please update jupyter and ipywidgets. See https://ipywidgets.readthedocs.io/en/stable/user_install.html\n",
      "  from .autonotebook import tqdm as notebook_tqdm\n"
     ]
    }
   ],
   "source": [
    "import torch # import pytorch\n",
    "import torch.nn as nn # pytorch's neural networks module\n",
    "import torch.nn.functional as F # functional module."
   ]
  },
  {
   "cell_type": "code",
   "execution_count": 2,
   "id": "d7e06702-7811-4b4f-9435-86445c62f87a",
   "metadata": {},
   "outputs": [
    {
     "data": {
      "text/plain": [
       "device(type='cuda', index=0)"
      ]
     },
     "execution_count": 2,
     "metadata": {},
     "output_type": "execute_result"
    }
   ],
   "source": [
    "device_id = 0 if torch.cuda.is_available() else 'cpu' # Equivalent to device_id = 'cuda:0'\n",
    "device = torch.device(device_id) # use these semantics to specify a specific device. \n",
    "device"
   ]
  },
  {
   "cell_type": "code",
   "execution_count": 3,
   "id": "1d263e59-434a-4f5d-befd-d4ddf2c191e8",
   "metadata": {},
   "outputs": [],
   "source": [
    "class VanillaRNN(nn.Module):\n",
    "    def __init__(self, input_size, hidden_size, num_layer, out_size):\n",
    "        super(VanillaRNN, self).__init__()\n",
    "        self.hidden_size = hidden_size\n",
    "        self.num_layer = num_layer\n",
    "        self.rnn = nn.RNN(input_size, hidden_size, num_layer, batch_first=True)\n",
    "        self.fc = nn.Linear(hidden_size, out_size)\n",
    "        self.softmax = nn.LogSoftmax(dim=1)\n",
    "\n",
    "    def forward(self, x):\n",
    "        out, hn = self.rnn(x)\n",
    "        out = self.fc(out[:, -1, :])\n",
    "        out = self.softmax(out)\n",
    "        return out"
   ]
  },
  {
   "cell_type": "code",
   "execution_count": 4,
   "id": "3546f025-0a9b-4768-9530-f00017eed4df",
   "metadata": {},
   "outputs": [],
   "source": [
    "import numpy as np"
   ]
  },
  {
   "cell_type": "code",
   "execution_count": 5,
   "id": "7c5e75bf-ffe1-49fa-bb56-249494932a68",
   "metadata": {},
   "outputs": [],
   "source": [
    "X_train_valid = np.load(\"./Data/X_train_valid.npy\")\n",
    "y_train_valid = np.load(\"./Data/y_train_valid.npy\")\n",
    "y_train_valid = (y_train_valid - np.min(y_train_valid)).astype('int')"
   ]
  },
  {
   "cell_type": "code",
   "execution_count": 6,
   "id": "bd951ca2-5ac9-4a9f-9c15-0541450373c6",
   "metadata": {},
   "outputs": [],
   "source": [
    "# Split the data into training and validation sets\n",
    "from sklearn.model_selection import train_test_split\n",
    "X_train_np, X_val_np, y_train_np, y_val_np = train_test_split(X_train_valid, y_train_valid, test_size=0.2, random_state=12345)\n",
    "X_train = torch.FloatTensor(X_train_np.transpose(0, 2, 1)).to(device)\n",
    "X_val = torch.FloatTensor(X_val_np.transpose(0, 2, 1)).to(device)\n",
    "y_train = torch.LongTensor(y_train_np).to(device)\n",
    "y_val = torch.LongTensor(y_val_np).to(device)"
   ]
  },
  {
   "cell_type": "code",
   "execution_count": 7,
   "id": "462647f7-3367-4c0d-85d5-b450a901c50a",
   "metadata": {},
   "outputs": [],
   "source": [
    "class MyDataset(torch.utils.data.Dataset):\n",
    "    def __init__(self, X, Y):\n",
    "        if isinstance(X, np.ndarray):\n",
    "            self.X = torch.FloatTensor(X) # 32-bit float\n",
    "        else:\n",
    "            self.X = X\n",
    "        if isinstance(Y, np.ndarray):\n",
    "            self.Y = torch.LongTensor(Y) # integer type\n",
    "        else:\n",
    "            self.Y = Y\n",
    "        return\n",
    "    \n",
    "    def __len__(self):\n",
    "        return len(self.X)\n",
    "    \n",
    "    def __getitem__(self, index):\n",
    "        return self.X[index], self.Y[index]"
   ]
  },
  {
   "cell_type": "code",
   "execution_count": 8,
   "id": "f3383409-3f5b-4ac5-9297-719c70b84ea6",
   "metadata": {},
   "outputs": [],
   "source": [
    "batch_size = 64\n",
    "train_dataset = MyDataset(X_train, y_train)\n",
    "train_dataloader = torch.utils.data.DataLoader(train_dataset, batch_size, shuffle=True)\n",
    "\n",
    "val_dataset = MyDataset(X_val, y_val)\n",
    "val_dataloader = torch.utils.data.DataLoader(val_dataset, batch_size, shuffle=False)"
   ]
  },
  {
   "cell_type": "code",
   "execution_count": 9,
   "id": "54e991ab-cec7-4d0b-8f09-8640df2f87d9",
   "metadata": {},
   "outputs": [],
   "source": [
    "import tqdm # for progress bar"
   ]
  },
  {
   "cell_type": "code",
   "execution_count": 10,
   "id": "b89f7a82-41bc-4a6e-a57b-5da46cce88d8",
   "metadata": {},
   "outputs": [],
   "source": [
    "# Set the random seeds.\n",
    "# Sometimes some operations are not deterministic.\n",
    "# See https://pytorch.org/docs/stable/notes/randomness.html\n",
    "#   and https://pytorch.org/docs/stable/generated/torch.use_deterministic_algorithms.html\n",
    "torch.manual_seed(12345) # set the random seed for pytorch\n",
    "\n",
    "model = VanillaRNN(22, 128, 3, 4).to(device)\n",
    "optimizer = torch.optim.Adam(model.parameters())\n",
    "criterion = nn.NLLLoss()\n",
    "\n",
    "loss_hist = []\n",
    "val_loss_hist = []\n",
    "acc_hist = []\n",
    "val_acc_hist = []"
   ]
  },
  {
   "cell_type": "code",
   "execution_count": 11,
   "id": "051a021e-224b-4c71-8114-9a5db745e2f0",
   "metadata": {},
   "outputs": [
    {
     "name": "stdout",
     "output_type": "stream",
     "text": [
      "torch.Size([64, 1000, 22])\n",
      "torch.Size([64, 4])\n"
     ]
    }
   ],
   "source": [
    "for j in train_dataloader:\n",
    "    x = j[0].to(device)\n",
    "    print(x.shape)\n",
    "    output = model(x)    \n",
    "    print(output.shape)\n",
    "    break"
   ]
  },
  {
   "cell_type": "code",
   "execution_count": 12,
   "id": "72bfcd96-c598-49c3-80cc-0015f6dd49bd",
   "metadata": {},
   "outputs": [
    {
     "name": "stderr",
     "output_type": "stream",
     "text": [
      "100%|██████████████████████████████| 30/30 [00:08<00:00,  3.53it/s, acc=1, val_acc=0.262]    \n"
     ]
    }
   ],
   "source": [
    "num_epochs = 30\n",
    "\n",
    "pbar = tqdm.tqdm(\n",
    "    range(num_epochs), position=0, leave=True,\n",
    "    bar_format='{l_bar}{bar:30}{r_bar}',\n",
    ")\n",
    "for epoch in pbar:\n",
    "    model.train() # set model to training mode.\n",
    "    for batch in train_dataloader:\n",
    "        optimizer.zero_grad() # clear gradients of parameters that optimizer is optimizing\n",
    "        x, y = batch\n",
    "\n",
    "        # x = x.to(device) # necessary if X is not on the same device as model\n",
    "        # y = y.to(device)\n",
    "        \n",
    "        model.zero_grad()\n",
    "\n",
    "        out = model(x) # shape (batch_size, n_classes)\n",
    "        loss = criterion(out, y) # calculate the cross entropy loss\n",
    "\n",
    "        loss.backward() # backpropagate\n",
    "        optimizer.step() # perform optimization step\n",
    "\n",
    "        # IMPORTANT: DO NOT store 'loss' by itself, since it references its entire computational graph.\n",
    "        # Otherwise you will run out of memory.\n",
    "        # You MUST use .item() to convert to a scalar or call .detach().\n",
    "        loss_hist.append(loss.item())\n",
    "    \n",
    "    model.eval() # set model to evaluation mode. Relevant for dropout, batchnorm, layernorm, etc.\n",
    "    # calculate accuracy for training and validation sets\n",
    "    ns = 0 # number of samples\n",
    "    nc = 0 # number of correct outputs\n",
    "    with torch.no_grad():\n",
    "        for batch in train_dataloader:\n",
    "            x, y = batch\n",
    "            out = model(x)\n",
    "            ns += len(y)\n",
    "            nc += (out.max(1)[1] == y).detach().cpu().numpy().sum()\n",
    "    acc_hist.append(nc/ns)\n",
    "\n",
    "    ns = 0 # number of samples\n",
    "    nc = 0 # number of correct outputs\n",
    "    with torch.no_grad():\n",
    "        for batch in val_dataloader:\n",
    "            x, y = batch\n",
    "            out = model(x)\n",
    "            loss = criterion(out, y)\n",
    "            val_loss_hist.append(loss.item())\n",
    "            ns += len(y)\n",
    "            nc += (out.max(1)[1] == y).detach().cpu().numpy().sum()\n",
    "    val_acc_hist.append(nc/ns)\n",
    "\n",
    "\n",
    "    # update progress bar postfix\n",
    "    pbar.set_postfix({'acc': acc_hist[-1], 'val_acc': val_acc_hist[-1]})"
   ]
  },
  {
   "cell_type": "code",
   "execution_count": null,
   "id": "3ef871f5-d2c7-40a3-b63f-de9a6a73a806",
   "metadata": {},
   "outputs": [],
   "source": []
  }
 ],
 "metadata": {
  "kernelspec": {
   "display_name": "Python 3",
   "language": "python",
   "name": "python3"
  },
  "language_info": {
   "codemirror_mode": {
    "name": "ipython",
    "version": 3
   },
   "file_extension": ".py",
   "mimetype": "text/x-python",
   "name": "python",
   "nbconvert_exporter": "python",
   "pygments_lexer": "ipython3",
   "version": "3.7.15"
  }
 },
 "nbformat": 4,
 "nbformat_minor": 5
}
