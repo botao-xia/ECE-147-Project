{
 "cells": [
  {
   "cell_type": "markdown",
   "metadata": {
    "id": "aeau2b2JQbn5"
   },
   "source": [
    "# Pytorch\n",
    "Installation: https://pytorch.org/get-started/locally/\n",
    "\n",
    "Documentation: https://pytorch.org/docs/stable/index.html"
   ]
  },
  {
   "cell_type": "code",
   "execution_count": null,
   "metadata": {
    "colab": {
     "base_uri": "https://localhost:8080/"
    },
    "id": "cqLYQZoOlUfZ",
    "outputId": "b71db467-01f2-46f4-dd11-53db778ba150"
   },
   "outputs": [
    {
     "name": "stdout",
     "output_type": "stream",
     "text": [
      "Using python version 3.8.10 (default, Nov 14 2022, 12:59:47) \n",
      "[GCC 9.4.0]\n"
     ]
    }
   ],
   "source": [
    "import sys\n",
    "print(f'Using python version {sys.version}') # get python version"
   ]
  },
  {
   "cell_type": "markdown",
   "metadata": {
    "id": "hipcU_-ESQxR"
   },
   "source": [
    "# Downloading data:"
   ]
  },
  {
   "cell_type": "code",
   "execution_count": null,
   "metadata": {
    "colab": {
     "base_uri": "https://localhost:8080/"
    },
    "id": "Kwduy3S6T4y9",
    "outputId": "ac2f7ce8-9dd6-4b38-9d98-2d5b3b37c6a8"
   },
   "outputs": [
    {
     "name": "stdout",
     "output_type": "stream",
     "text": [
      "Looking in indexes: https://pypi.org/simple, https://us-python.pkg.dev/colab-wheels/public/simple/\n",
      "Requirement already satisfied: gdown in /usr/local/lib/python3.8/dist-packages (4.4.0)\n",
      "Collecting gdown\n",
      "  Downloading gdown-4.6.4-py3-none-any.whl (14 kB)\n",
      "Requirement already satisfied: tqdm in /usr/local/lib/python3.8/dist-packages (from gdown) (4.64.1)\n",
      "Requirement already satisfied: filelock in /usr/local/lib/python3.8/dist-packages (from gdown) (3.9.0)\n",
      "Requirement already satisfied: six in /usr/local/lib/python3.8/dist-packages (from gdown) (1.15.0)\n",
      "Requirement already satisfied: requests[socks] in /usr/local/lib/python3.8/dist-packages (from gdown) (2.25.1)\n",
      "Requirement already satisfied: beautifulsoup4 in /usr/local/lib/python3.8/dist-packages (from gdown) (4.6.3)\n",
      "Requirement already satisfied: certifi>=2017.4.17 in /usr/local/lib/python3.8/dist-packages (from requests[socks]->gdown) (2022.12.7)\n",
      "Requirement already satisfied: idna<3,>=2.5 in /usr/local/lib/python3.8/dist-packages (from requests[socks]->gdown) (2.10)\n",
      "Requirement already satisfied: urllib3<1.27,>=1.21.1 in /usr/local/lib/python3.8/dist-packages (from requests[socks]->gdown) (1.26.14)\n",
      "Requirement already satisfied: chardet<5,>=3.0.2 in /usr/local/lib/python3.8/dist-packages (from requests[socks]->gdown) (4.0.0)\n",
      "Requirement already satisfied: PySocks!=1.5.7,>=1.5.6 in /usr/local/lib/python3.8/dist-packages (from requests[socks]->gdown) (1.7.1)\n",
      "Installing collected packages: gdown\n",
      "  Attempting uninstall: gdown\n",
      "    Found existing installation: gdown 4.4.0\n",
      "    Uninstalling gdown-4.4.0:\n",
      "      Successfully uninstalled gdown-4.4.0\n",
      "Successfully installed gdown-4.6.4\n"
     ]
    }
   ],
   "source": [
    "# Addresses some bug with gdown\n",
    "!pip install --upgrade --no-cache-dir gdown"
   ]
  },
  {
   "cell_type": "code",
   "execution_count": null,
   "metadata": {
    "colab": {
     "base_uri": "https://localhost:8080/"
    },
    "id": "tKDlHgAHQcj5",
    "outputId": "5d1878fd-8164-4aac-c148-75fa27c5edb9"
   },
   "outputs": [
    {
     "name": "stdout",
     "output_type": "stream",
     "text": [
      "Downloading...\n",
      "From: https://drive.google.com/uc?id=17gstq9gv4hzG1tHE1obo8URmduY0Ics9\n",
      "To: /content/X_train_valid.npy\n",
      "100% 372M/372M [00:02<00:00, 164MB/s]\n",
      "Downloading...\n",
      "From: https://drive.google.com/uc?id=105LOnheUVqo5SpnTmSPFQctKXNmeB8ZK\n",
      "To: /content/y_train_valid.npy\n",
      "100% 8.59k/8.59k [00:00<00:00, 13.8MB/s]\n"
     ]
    }
   ],
   "source": [
    "!gdown 17gstq9gv4hzG1tHE1obo8URmduY0Ics9 # X_train_valid.npy\n",
    "!gdown 105LOnheUVqo5SpnTmSPFQctKXNmeB8ZK # y_train_valid.npy"
   ]
  },
  {
   "cell_type": "markdown",
   "metadata": {
    "id": "ObNUgWmWStUv"
   },
   "source": [
    "# Enabling GPU in Google colab\n",
    "1. Runtime -> Change runtime type -> Hardware accelerator -> GPU\n",
    "2. Note that Google colab has a limited compute allowance and also an inactivity timeout.\n",
    "\n",
    "p.s. If indentation width is unexpected, go to Tools -> Settings -> Editor -> Indentation width in spaces\n"
   ]
  },
  {
   "cell_type": "markdown",
   "metadata": {
    "id": "doeQKrbQ8MY8"
   },
   "source": [
    "# Pytorch basics"
   ]
  },
  {
   "cell_type": "code",
   "execution_count": null,
   "metadata": {
    "colab": {
     "base_uri": "https://localhost:8080/"
    },
    "id": "kD6pBcLIULbv",
    "outputId": "5e6281f4-f7c9-4bbe-ae4c-8699201f313c"
   },
   "outputs": [
    {
     "name": "stdout",
     "output_type": "stream",
     "text": [
      "Using pytorch version 1.13.1+cu116\n"
     ]
    }
   ],
   "source": [
    "import numpy as np\n",
    "import matplotlib.pyplot as plt\n",
    "import random\n",
    "\n",
    "import torch # import pytorch\n",
    "import torch.nn as nn # pytorch's neural networks module\n",
    "import torch.nn.functional as F # functional module.\n",
    "\n",
    "print(f'Using pytorch version {torch.__version__}')"
   ]
  },
  {
   "cell_type": "code",
   "execution_count": null,
   "metadata": {
    "colab": {
     "base_uri": "https://localhost:8080/"
    },
    "id": "1lUTelKF8L4F",
    "outputId": "1926d023-e389-4534-9c5a-fe54e85a48ae"
   },
   "outputs": [
    {
     "name": "stdout",
     "output_type": "stream",
     "text": [
      "tensor([0., 1., 2., 3., 4.])\n"
     ]
    }
   ],
   "source": [
    "u_np = np.arange(5, dtype='float64')\n",
    "u = torch.FloatTensor(u_np) # Create a 32-bit float tensor using the data in u_np\n",
    "print(u)"
   ]
  },
  {
   "cell_type": "code",
   "execution_count": null,
   "metadata": {
    "colab": {
     "base_uri": "https://localhost:8080/"
    },
    "id": "kaIUpDZQ8L6e",
    "outputId": "ca866e74-8643-4261-9e01-d8b952f7e643"
   },
   "outputs": [
    {
     "name": "stdout",
     "output_type": "stream",
     "text": [
      "tensor([0., 1., 2., 3., 4.], requires_grad=True)\n"
     ]
    }
   ],
   "source": [
    "v = torch.tensor(u_np.astype('float32'), requires_grad=True) # use 32-bit float for compatibility\n",
    "print(v)"
   ]
  },
  {
   "cell_type": "code",
   "execution_count": null,
   "metadata": {
    "colab": {
     "base_uri": "https://localhost:8080/"
    },
    "id": "cCzYyKrk8L9J",
    "outputId": "4633cd23-26e6-4e6a-8c43-d78264eeb02b"
   },
   "outputs": [
    {
     "name": "stdout",
     "output_type": "stream",
     "text": [
      "Exception: element 0 of tensors does not require grad and does not have a grad_fn\n",
      "tensor([0., 1., 2., 3., 4.]) None\n"
     ]
    }
   ],
   "source": [
    "u_sumsq = (u**2).sum()\n",
    "try:\n",
    "    u_sumsq.backward() # backward pass computes gradients with respect to the calling tensor\n",
    "except Exception as e:\n",
    "    print(f'Exception: {str(e)}')\n",
    "print(u, u.grad)"
   ]
  },
  {
   "cell_type": "code",
   "execution_count": null,
   "metadata": {
    "colab": {
     "base_uri": "https://localhost:8080/"
    },
    "id": "yYNMgZnZ8L_0",
    "outputId": "c8ac6891-2595-4056-9178-53d88596fc7d"
   },
   "outputs": [
    {
     "name": "stdout",
     "output_type": "stream",
     "text": [
      "tensor([0., 1., 2., 3., 4.], requires_grad=True) tensor([0., 2., 4., 6., 8.])\n",
      "tensor([0., 1., 2., 3., 4.], requires_grad=True) tensor([ 0.,  4.,  8., 12., 16.])\n",
      "tensor([0., 1., 2., 3., 4.], requires_grad=True) tensor([ 0.,  6., 12., 18., 24.])\n"
     ]
    }
   ],
   "source": [
    "# Note that gradients accumulate (summation) with multiple backward passes\n",
    "# Use optimizer.zero_grad() when an optimizer is used (shown later)\n",
    "# Use v.grad = None to clear the gradient (ONLY WHEN MODIFYING GRADIENTS MANUALLY)\n",
    "v_sumsq = (v**2).sum() # gradient should be 2*v\n",
    "v_sumsq.backward()\n",
    "print(v, v.grad)\n",
    "\n",
    "v_sumsq = (v**2).sum()\n",
    "v_sumsq.backward(retain_graph=True) # Use retain_graph=True if the computation graph needs to be used in multiple backward passes\n",
    "print(v, v.grad)\n",
    "\n",
    "v_sumsq.backward() \n",
    "print(v, v.grad)"
   ]
  },
  {
   "cell_type": "code",
   "execution_count": null,
   "metadata": {
    "colab": {
     "base_uri": "https://localhost:8080/",
     "height": 476
    },
    "id": "PnuLyd0VceA_",
    "outputId": "1e7d9589-f2ff-4aca-9054-1f3ba72ab370"
   },
   "outputs": [
    {
     "name": "stdout",
     "output_type": "stream",
     "text": [
      "tensor([0., 1., 2., 3., 4.], requires_grad=True) tensor([ 0.,  8., 16., 24., 32.])\n"
     ]
    },
    {
     "ename": "RuntimeError",
     "evalue": "ignored",
     "output_type": "error",
     "traceback": [
      "\u001b[0;31m---------------------------------------------------------------------------\u001b[0m",
      "\u001b[0;31mRuntimeError\u001b[0m                              Traceback (most recent call last)",
      "\u001b[0;32m<ipython-input-10-3b2e39950fca>\u001b[0m in \u001b[0;36m<module>\u001b[0;34m\u001b[0m\n\u001b[1;32m      3\u001b[0m \u001b[0mprint\u001b[0m\u001b[0;34m(\u001b[0m\u001b[0mv\u001b[0m\u001b[0;34m,\u001b[0m \u001b[0mv\u001b[0m\u001b[0;34m.\u001b[0m\u001b[0mgrad\u001b[0m\u001b[0;34m)\u001b[0m\u001b[0;34m\u001b[0m\u001b[0;34m\u001b[0m\u001b[0m\n\u001b[1;32m      4\u001b[0m \u001b[0;34m\u001b[0m\u001b[0m\n\u001b[0;32m----> 5\u001b[0;31m \u001b[0mv_sumsq\u001b[0m\u001b[0;34m.\u001b[0m\u001b[0mbackward\u001b[0m\u001b[0;34m(\u001b[0m\u001b[0;34m)\u001b[0m\u001b[0;34m\u001b[0m\u001b[0;34m\u001b[0m\u001b[0m\n\u001b[0m\u001b[1;32m      6\u001b[0m \u001b[0mprint\u001b[0m\u001b[0;34m(\u001b[0m\u001b[0mv\u001b[0m\u001b[0;34m,\u001b[0m \u001b[0mv\u001b[0m\u001b[0;34m.\u001b[0m\u001b[0mgrad\u001b[0m\u001b[0;34m)\u001b[0m\u001b[0;34m\u001b[0m\u001b[0;34m\u001b[0m\u001b[0m\n",
      "\u001b[0;32m/usr/local/lib/python3.8/dist-packages/torch/_tensor.py\u001b[0m in \u001b[0;36mbackward\u001b[0;34m(self, gradient, retain_graph, create_graph, inputs)\u001b[0m\n\u001b[1;32m    486\u001b[0m                 \u001b[0minputs\u001b[0m\u001b[0;34m=\u001b[0m\u001b[0minputs\u001b[0m\u001b[0;34m,\u001b[0m\u001b[0;34m\u001b[0m\u001b[0;34m\u001b[0m\u001b[0m\n\u001b[1;32m    487\u001b[0m             )\n\u001b[0;32m--> 488\u001b[0;31m         torch.autograd.backward(\n\u001b[0m\u001b[1;32m    489\u001b[0m             \u001b[0mself\u001b[0m\u001b[0;34m,\u001b[0m \u001b[0mgradient\u001b[0m\u001b[0;34m,\u001b[0m \u001b[0mretain_graph\u001b[0m\u001b[0;34m,\u001b[0m \u001b[0mcreate_graph\u001b[0m\u001b[0;34m,\u001b[0m \u001b[0minputs\u001b[0m\u001b[0;34m=\u001b[0m\u001b[0minputs\u001b[0m\u001b[0;34m\u001b[0m\u001b[0;34m\u001b[0m\u001b[0m\n\u001b[1;32m    490\u001b[0m         )\n",
      "\u001b[0;32m/usr/local/lib/python3.8/dist-packages/torch/autograd/__init__.py\u001b[0m in \u001b[0;36mbackward\u001b[0;34m(tensors, grad_tensors, retain_graph, create_graph, grad_variables, inputs)\u001b[0m\n\u001b[1;32m    195\u001b[0m     \u001b[0;31m# some Python versions print out the first line of a multi-line function\u001b[0m\u001b[0;34m\u001b[0m\u001b[0;34m\u001b[0m\u001b[0;34m\u001b[0m\u001b[0m\n\u001b[1;32m    196\u001b[0m     \u001b[0;31m# calls in the traceback and some print out the last line\u001b[0m\u001b[0;34m\u001b[0m\u001b[0;34m\u001b[0m\u001b[0;34m\u001b[0m\u001b[0m\n\u001b[0;32m--> 197\u001b[0;31m     Variable._execution_engine.run_backward(  # Calls into the C++ engine to run the backward pass\n\u001b[0m\u001b[1;32m    198\u001b[0m         \u001b[0mtensors\u001b[0m\u001b[0;34m,\u001b[0m \u001b[0mgrad_tensors_\u001b[0m\u001b[0;34m,\u001b[0m \u001b[0mretain_graph\u001b[0m\u001b[0;34m,\u001b[0m \u001b[0mcreate_graph\u001b[0m\u001b[0;34m,\u001b[0m \u001b[0minputs\u001b[0m\u001b[0;34m,\u001b[0m\u001b[0;34m\u001b[0m\u001b[0;34m\u001b[0m\u001b[0m\n\u001b[1;32m    199\u001b[0m         allow_unreachable=True, accumulate_grad=True)  # Calls into the C++ engine to run the backward pass\n",
      "\u001b[0;31mRuntimeError\u001b[0m: Trying to backward through the graph a second time (or directly access saved tensors after they have already been freed). Saved intermediate values of the graph are freed when you call .backward() or autograd.grad(). Specify retain_graph=True if you need to backward through the graph a second time or if you need to access saved tensors after calling backward."
     ]
    }
   ],
   "source": [
    "v_sumsq = (v**2).sum()\n",
    "v_sumsq.backward(retain_graph=False) # Use retain_graph=True if the computation graph needs to be used in multiple backward passes\n",
    "print(v, v.grad)\n",
    "\n",
    "v_sumsq.backward() \n",
    "print(v, v.grad)"
   ]
  },
  {
   "cell_type": "code",
   "execution_count": null,
   "metadata": {
    "colab": {
     "base_uri": "https://localhost:8080/"
    },
    "id": "oPjy6AMIcKJ4",
    "outputId": "b33d9b4b-4b1d-4c92-c47d-75a5b3f5a662"
   },
   "outputs": [
    {
     "data": {
      "text/plain": [
       "tensor(30., grad_fn=<SumBackward0>)"
      ]
     },
     "execution_count": 9,
     "metadata": {},
     "output_type": "execute_result"
    }
   ],
   "source": [
    "v_sumsq"
   ]
  },
  {
   "cell_type": "code",
   "execution_count": null,
   "metadata": {
    "id": "9ZJt3133cQzH"
   },
   "outputs": [],
   "source": [
    "with torch.no_grad():\n",
    "    pass"
   ]
  },
  {
   "cell_type": "code",
   "execution_count": null,
   "metadata": {
    "colab": {
     "base_uri": "https://localhost:8080/"
    },
    "id": "3DdWcukx8MCR",
    "outputId": "63a8d09d-f31b-47f3-c216-1b438fa94685"
   },
   "outputs": [
    {
     "name": "stdout",
     "output_type": "stream",
     "text": [
      "tensor([0., 1., 2., 3., 4.], requires_grad=True) tensor([0., 2., 4., 6., 8.])\n"
     ]
    }
   ],
   "source": [
    "# make u store gradient\n",
    "u.requires_grad_(True)\n",
    "u_sumsq = (u**2).sum()\n",
    "u_sumsq.backward() # backward pass computes gradients with respect to the calling tensor\n",
    "print(u, u.grad)"
   ]
  },
  {
   "cell_type": "code",
   "execution_count": null,
   "metadata": {
    "colab": {
     "base_uri": "https://localhost:8080/"
    },
    "id": "pF7JW1YkAWEB",
    "outputId": "bb807208-7752-4525-e242-bd9075bc0997"
   },
   "outputs": [
    {
     "name": "stdout",
     "output_type": "stream",
     "text": [
      "tensor([0., 1., 2., 3., 4.], requires_grad=True) tensor([2., 2., 2., 2., 2.])\n"
     ]
    }
   ],
   "source": [
    "u.grad = None\n",
    "(2*u).backward(torch.ones(*u.shape)) # You can also pass an upstream gradient manually\n",
    "print(u, u.grad)"
   ]
  },
  {
   "cell_type": "code",
   "execution_count": null,
   "metadata": {
    "colab": {
     "base_uri": "https://localhost:8080/"
    },
    "id": "43rWf9WOEPyw",
    "outputId": "da677574-9daf-446c-e9fe-438174b5ef55"
   },
   "outputs": [
    {
     "name": "stdout",
     "output_type": "stream",
     "text": [
      "tensor([0., 2., 4., 6., 8.], grad_fn=<MulBackward0>)\n",
      "tensor([0., 2., 4., 6., 8.])\n"
     ]
    }
   ],
   "source": [
    "# Use the torch.no_grad() context to skip computing gradients and retaining the computational graph\n",
    "# Note the absence of grad_fn in the second output\n",
    "# See https://pytorch.org/docs/stable/generated/torch.no_grad.html\n",
    "u.grad = None\n",
    "print(2*u)\n",
    "with torch.no_grad():\n",
    "    u.grad = None\n",
    "    print(2*u)"
   ]
  },
  {
   "cell_type": "code",
   "execution_count": null,
   "metadata": {
    "colab": {
     "base_uri": "https://localhost:8080/"
    },
    "id": "0FRcSaocBOVP",
    "outputId": "362e3dc7-916a-4845-8f3c-fec5476cae50"
   },
   "outputs": [
    {
     "name": "stdout",
     "output_type": "stream",
     "text": [
      "tensor([0., 1., 2., 3., 4.], requires_grad=True) tensor([1., 1., 1., 1., 1.])\n"
     ]
    }
   ],
   "source": [
    "# detach tensors to prevent gradients from flowing through\n",
    "u.grad = None\n",
    "(u + u.detach()).backward(torch.ones(*u.shape))\n",
    "print(u, u.grad)"
   ]
  },
  {
   "cell_type": "code",
   "execution_count": null,
   "metadata": {
    "colab": {
     "base_uri": "https://localhost:8080/"
    },
    "id": "uV5dKbOeBOX5",
    "outputId": "7a579eba-03d9-4053-c5f1-c5943ba926e0"
   },
   "outputs": [
    {
     "name": "stdout",
     "output_type": "stream",
     "text": [
      "tensor([0., 1., 2., 3., 4.], requires_grad=True) tensor([2., 2., 2., 2., 2.])\n"
     ]
    }
   ],
   "source": [
    "# cloning tensors copies them but allows gradients to flow through\n",
    "u.grad = None\n",
    "(u + u.clone()).backward(torch.ones(*u.shape))\n",
    "print(u, u.grad)"
   ]
  },
  {
   "cell_type": "code",
   "execution_count": null,
   "metadata": {
    "colab": {
     "base_uri": "https://localhost:8080/"
    },
    "id": "vrn6vuVoBOaK",
    "outputId": "5d5b5290-0719-4ed4-abc3-1fddae81df30"
   },
   "outputs": [
    {
     "data": {
      "text/plain": [
       "array([0., 1., 2., 3., 4.], dtype=float32)"
      ]
     },
     "execution_count": 16,
     "metadata": {},
     "output_type": "execute_result"
    }
   ],
   "source": [
    "# call .cuda() or .to(device) to pass to the GPU or a specific device, respectively\n",
    "#   device can be 'cpu', a number (0, 1, ...), or the return of torch.device(device_id),\n",
    "#     where device_id is 'cpu' or a number.\n",
    "# call .cpu() to pass to the CPU\n",
    "# call .numpy() to convert to numpy, but only if the tensor is on the CPU already\n",
    "u.cuda().detach().cpu().numpy()"
   ]
  },
  {
   "cell_type": "code",
   "execution_count": null,
   "metadata": {
    "colab": {
     "base_uri": "https://localhost:8080/"
    },
    "id": "LBR7Mbw7yZer",
    "outputId": "51ec1132-6515-4772-9535-bd6ff12bcacf"
   },
   "outputs": [
    {
     "name": "stdout",
     "output_type": "stream",
     "text": [
      "tensor([0., 1., 2., 3., 4.], requires_grad=True) tensor([3., 3., 3., 3., 3.])\n"
     ]
    }
   ],
   "source": [
    "# We can also manually modify gradients\n",
    "with torch.no_grad():\n",
    "    if u.grad is not None:\n",
    "        u.grad[:] = 3.0\n",
    "print(u, u.grad)"
   ]
  },
  {
   "cell_type": "code",
   "execution_count": null,
   "metadata": {
    "id": "B_fB6sjjeMok"
   },
   "outputs": [],
   "source": [
    "u.grad[:] = 3.0"
   ]
  },
  {
   "cell_type": "code",
   "execution_count": null,
   "metadata": {
    "colab": {
     "base_uri": "https://localhost:8080/"
    },
    "id": "dFR2mroj8MFC",
    "outputId": "4cdd6f80-e040-42a5-e5c2-55ddb21ebc7a"
   },
   "outputs": [
    {
     "name": "stdout",
     "output_type": "stream",
     "text": [
      "Wed Mar  1 23:19:19 2023       \n",
      "+-----------------------------------------------------------------------------+\n",
      "| NVIDIA-SMI 525.85.12    Driver Version: 525.85.12    CUDA Version: 12.0     |\n",
      "|-------------------------------+----------------------+----------------------+\n",
      "| GPU  Name        Persistence-M| Bus-Id        Disp.A | Volatile Uncorr. ECC |\n",
      "| Fan  Temp  Perf  Pwr:Usage/Cap|         Memory-Usage | GPU-Util  Compute M. |\n",
      "|                               |                      |               MIG M. |\n",
      "|===============================+======================+======================|\n",
      "|   0  Tesla T4            Off  | 00000000:00:04.0 Off |                    0 |\n",
      "| N/A   37C    P0    26W /  70W |    573MiB / 15360MiB |      0%      Default |\n",
      "|                               |                      |                  N/A |\n",
      "+-------------------------------+----------------------+----------------------+\n",
      "                                                                               \n",
      "+-----------------------------------------------------------------------------+\n",
      "| Processes:                                                                  |\n",
      "|  GPU   GI   CI        PID   Type   Process name                  GPU Memory |\n",
      "|        ID   ID                                                   Usage      |\n",
      "|=============================================================================|\n",
      "+-----------------------------------------------------------------------------+\n"
     ]
    }
   ],
   "source": [
    "# Use nvidia-smi (in the console or as a magic command) to check GPU utilization.\n",
    "# I don't know how to check this on Colab while already running code\n",
    "!nvidia-smi"
   ]
  },
  {
   "cell_type": "code",
   "execution_count": null,
   "metadata": {
    "colab": {
     "base_uri": "https://localhost:8080/"
    },
    "id": "5CDAdVbLDJPH",
    "outputId": "f7546d17-4ef6-4071-9396-9a5da58f3a81"
   },
   "outputs": [
    {
     "name": "stdout",
     "output_type": "stream",
     "text": [
      "cat: torch.Size([3, 8])\n",
      "stack: torch.Size([3, 2, 4])\n",
      "permute: torch.Size([5, 3, 4])\n",
      "view: torch.Size([3, 20])\n",
      "reshape: torch.Size([3, 20])\n",
      "softmax: tensor([1.0000, 1.0000, 1.0000])\n"
     ]
    }
   ],
   "source": [
    "# Useful functions:\n",
    "# Note that pytorch uses dim in most places and accepts axis sometimes, but not usually.\n",
    "print('cat:', torch.cat([torch.zeros(3, 4), torch.ones(3, 4)], dim=1).shape)\n",
    "print('stack:', torch.stack([torch.zeros(3, 4), torch.ones(3, 4)], dim=1).shape)\n",
    "print('permute:', torch.zeros(3, 4, 5).permute(2, 0, 1).shape) # similar to np.ndarray.transpose\n",
    "print('view:', torch.zeros(3, 4, 5).view(3, 20).shape)\n",
    "print('reshape:', torch.zeros(3, 4, 5).reshape(3, 20).shape)\n",
    "print('softmax:', F.softmax(torch.randn(3, 4), dim=-1).sum(1))\n",
    "# See also:\n",
    "# torch.zeros\n",
    "# torch.ones\n",
    "# torch.randn\n",
    "# torch.empty\n",
    "# torch.full\n",
    "# torch.ones_like\n",
    "# torch.zeros_like\n",
    "# torch.randn_like\n",
    "# F.softmax (i.e. torch.nn.functional.softmax)\n",
    "# F.log_softmax (i.e. torch.nn.functional.log_softmax)\n",
    "# torch.nn.Module.register_buffer\n",
    "# torch.nn.Module.register_parameter"
   ]
  },
  {
   "cell_type": "markdown",
   "metadata": {
    "id": "EIqeGuxgTV9k"
   },
   "source": [
    "# Loading and examining data"
   ]
  },
  {
   "cell_type": "code",
   "execution_count": null,
   "metadata": {
    "id": "IT6UGiRqSia3"
   },
   "outputs": [],
   "source": [
    "X_train_valid = np.load(\"X_train_valid.npy\")\n",
    "y_train_valid = np.load(\"y_train_valid.npy\")"
   ]
  },
  {
   "cell_type": "code",
   "execution_count": null,
   "metadata": {
    "colab": {
     "base_uri": "https://localhost:8080/"
    },
    "id": "U4fa_w4tSidL",
    "outputId": "7d48c96a-66fd-4647-bc07-8c2a01ba8c2c"
   },
   "outputs": [
    {
     "name": "stdout",
     "output_type": "stream",
     "text": [
      "Training/Valid data shape: (2115, 22, 1000)\n",
      "Training/Valid labels shape: (2115,)\n"
     ]
    }
   ],
   "source": [
    "print (f'Training/Valid data shape: {X_train_valid.shape}')\n",
    "print (f'Training/Valid labels shape: {y_train_valid.shape}')"
   ]
  },
  {
   "cell_type": "code",
   "execution_count": null,
   "metadata": {
    "colab": {
     "base_uri": "https://localhost:8080/",
     "height": 354
    },
    "id": "kMDG0OAaSifk",
    "outputId": "a5f118e2-0d5d-42fb-f210-5d73351c6cce"
   },
   "outputs": [
    {
     "data": {
      "text/plain": [
       "Text(0, 0.5, 'count')"
      ]
     },
     "execution_count": 23,
     "metadata": {},
     "output_type": "execute_result"
    },
    {
     "data": {
      "image/png": "[encoded data removed]",
      "text/plain": [
       "<Figure size 720x360 with 1 Axes>"
      ]
     },
     "metadata": {
      "needs_background": "light"
     },
     "output_type": "display_data"
    }
   ],
   "source": [
    "plt.figure(figsize=(10, 5))\n",
    "plt.bar(*np.unique(y_train_valid, return_counts=True))\n",
    "plt.xlabel('raw y_train_valid labels')\n",
    "plt.ylabel('count')"
   ]
  },
  {
   "cell_type": "code",
   "execution_count": null,
   "metadata": {
    "id": "7pOimbd6UXsc"
   },
   "outputs": [],
   "source": [
    "# Convert to 0-4 labeling and integer type (integers needed for categorical labels)\n",
    "y_train_valid = (y_train_valid - np.min(y_train_valid)).astype('int')"
   ]
  },
  {
   "cell_type": "markdown",
   "metadata": {
    "id": "ug_mtpVFMUjY"
   },
   "source": [
    "# Modules"
   ]
  },
  {
   "cell_type": "code",
   "execution_count": null,
   "metadata": {
    "id": "JxzAWX6bevLc"
   },
   "outputs": [],
   "source": [
    "# nn.Module"
   ]
  },
  {
   "cell_type": "code",
   "execution_count": null,
   "metadata": {
    "colab": {
     "base_uri": "https://localhost:8080/"
    },
    "id": "aHCb8G7QMVuU",
    "outputId": "11351840-1073-4fc5-a0ca-8fc4f098391c"
   },
   "outputs": [
    {
     "name": "stdout",
     "output_type": "stream",
     "text": [
      "torch.Size([7, 8]) torch.Size([7, 5])\n"
     ]
    }
   ],
   "source": [
    "# Dense layer\n",
    "in_features = 8\n",
    "out_features = 5\n",
    "x = torch.zeros(7, in_features)\n",
    "layer = nn.Linear(in_features, out_features)\n",
    "print(x.shape, layer(x).shape)"
   ]
  },
  {
   "cell_type": "code",
   "execution_count": null,
   "metadata": {
    "colab": {
     "base_uri": "https://localhost:8080/"
    },
    "id": "kflS5GGnNBcZ",
    "outputId": "3c524bbc-25a9-486a-88b8-f9eeeb14380b"
   },
   "outputs": [
    {
     "name": "stdout",
     "output_type": "stream",
     "text": [
      "torch.Size([5, 8])\n"
     ]
    }
   ],
   "source": [
    "print(layer.weight.shape)"
   ]
  },
  {
   "cell_type": "code",
   "execution_count": null,
   "metadata": {
    "colab": {
     "base_uri": "https://localhost:8080/"
    },
    "id": "F24hh3sgNNFO",
    "outputId": "6ea86bb0-56c3-4668-87d5-1bf1eca139c9"
   },
   "outputs": [
    {
     "name": "stdout",
     "output_type": "stream",
     "text": [
      "Parameter containing:\n",
      "tensor([-0.2841,  0.0054,  0.0652, -0.0859,  0.2232], requires_grad=True)\n"
     ]
    }
   ],
   "source": [
    "print(layer.bias)"
   ]
  },
  {
   "cell_type": "code",
   "execution_count": null,
   "metadata": {
    "id": "yjgkeh6BNDQj"
   },
   "outputs": [],
   "source": [
    "with torch.no_grad():\n",
    "    layer.weight[:] = 0.0"
   ]
  },
  {
   "cell_type": "code",
   "execution_count": null,
   "metadata": {
    "colab": {
     "base_uri": "https://localhost:8080/"
    },
    "id": "ZPD_ZgKwNHTL",
    "outputId": "08910f9f-7736-438a-c6f4-8910a9f9d1e5"
   },
   "outputs": [
    {
     "name": "stdout",
     "output_type": "stream",
     "text": [
      "tensor([[-0.2841,  0.0054,  0.0652, -0.0859,  0.2232],\n",
      "        [-0.2841,  0.0054,  0.0652, -0.0859,  0.2232],\n",
      "        [-0.2841,  0.0054,  0.0652, -0.0859,  0.2232],\n",
      "        [-0.2841,  0.0054,  0.0652, -0.0859,  0.2232],\n",
      "        [-0.2841,  0.0054,  0.0652, -0.0859,  0.2232],\n",
      "        [-0.2841,  0.0054,  0.0652, -0.0859,  0.2232],\n",
      "        [-0.2841,  0.0054,  0.0652, -0.0859,  0.2232]],\n",
      "       grad_fn=<AddmmBackward0>)\n"
     ]
    }
   ],
   "source": [
    "print(layer(x))"
   ]
  },
  {
   "cell_type": "code",
   "execution_count": null,
   "metadata": {
    "colab": {
     "base_uri": "https://localhost:8080/"
    },
    "id": "Wm04Nu9NMVwi",
    "outputId": "75b763a4-c426-4973-c3cc-e6904556f4d2"
   },
   "outputs": [
    {
     "name": "stdout",
     "output_type": "stream",
     "text": [
      "torch.Size([7, 8]) torch.Size([7, 19])\n"
     ]
    },
    {
     "name": "stderr",
     "output_type": "stream",
     "text": [
      "/usr/local/lib/python3.8/dist-packages/torch/nn/modules/lazy.py:180: UserWarning: Lazy modules are a new feature under heavy development so changes to the API or functionality can happen at any moment.\n",
      "  warnings.warn('Lazy modules are a new feature under heavy development '\n"
     ]
    }
   ],
   "source": [
    "# Sequential layers\n",
    "sequential = nn.Sequential(\n",
    "    nn.LazyLinear(17),\n",
    "    nn.LazyLinear(19)\n",
    ")\n",
    "print(x.shape, sequential(x).shape)"
   ]
  },
  {
   "cell_type": "code",
   "execution_count": null,
   "metadata": {
    "colab": {
     "base_uri": "https://localhost:8080/"
    },
    "id": "OnyZm-cOMVy9",
    "outputId": "2d70a5c6-cba0-493d-d885-1ae5d4442493"
   },
   "outputs": [
    {
     "name": "stdout",
     "output_type": "stream",
     "text": [
      "Sequential(\n",
      "  (0): Linear(in_features=8, out_features=17, bias=True)\n",
      "  (1): Linear(in_features=17, out_features=19, bias=True)\n",
      ")\n"
     ]
    }
   ],
   "source": [
    "print(sequential)"
   ]
  },
  {
   "cell_type": "code",
   "execution_count": null,
   "metadata": {
    "colab": {
     "base_uri": "https://localhost:8080/"
    },
    "id": "0vycv96mNPhq",
    "outputId": "234187cc-8cc1-482b-f330-33bdf2c02362"
   },
   "outputs": [
    {
     "data": {
      "text/plain": [
       "torch.Size([17, 8])"
      ]
     },
     "execution_count": 33,
     "metadata": {},
     "output_type": "execute_result"
    }
   ],
   "source": [
    "sequential[0].weight.shape"
   ]
  },
  {
   "cell_type": "code",
   "execution_count": null,
   "metadata": {
    "colab": {
     "base_uri": "https://localhost:8080/"
    },
    "id": "0z_W38auNPkD",
    "outputId": "6f0d8790-fd71-45ba-b3b6-9cf59b1f448a"
   },
   "outputs": [
    {
     "data": {
      "text/plain": [
       "torch.Size([19, 17])"
      ]
     },
     "execution_count": 34,
     "metadata": {},
     "output_type": "execute_result"
    }
   ],
   "source": [
    "sequential[1].weight.shape"
   ]
  },
  {
   "cell_type": "code",
   "execution_count": null,
   "metadata": {
    "id": "K4rIZTAYNPl-"
   },
   "outputs": [],
   "source": []
  },
  {
   "cell_type": "markdown",
   "metadata": {
    "id": "8kNN4VjqWAxD"
   },
   "source": [
    "# Shallow Convnet\n",
    "From \"Deep Learning Wtih Convolutional Neural Networks for EEG Decoding and Visualization\", Schirrmeister et al., 2017 (https://doi.org/10.1002/hbm.23730)\n",
    "* diagram does not show ELU activations"
   ]
  },
  {
   "cell_type": "markdown",
   "metadata": {
    "id": "SieAtEhBVmSE"
   },
   "source": [
    "![shallow-convnet2.png](data:image/png;base64,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)"
   ]
  },
  {
   "cell_type": "code",
   "execution_count": null,
   "metadata": {
    "id": "HKM-0AyhWwON"
   },
   "outputs": [],
   "source": [
    "# inherits from nn.Module\n",
    "class ShallowConvNet(nn.Module):\n",
    "    def __init__(self, input_shape=(22, 1000), n_temporal_filters=40, n_spatial_filters=40, n_classes=4):\n",
    "        super().__init__() # call __init__ method of superclass\n",
    "        \n",
    "        self.input_shape = input_shape # last two dimensions, (excluding batch size). Should be length 2.\n",
    "        self.n_temporal_filters = n_temporal_filters\n",
    "        self.n_spatial_filters = n_spatial_filters\n",
    "        self.n_classes = n_classes\n",
    "\n",
    "        # https://pytorch.org/docs/stable/generated/torch.nn.Conv2d.html#torch.nn.Conv2d\n",
    "        # torch.nn.Conv2d(in_channels, out_channels, kernel_size, stride=1, padding=0, dilation=1, groups=1, bias=True, padding_mode='zeros', device=None, dtype=None)\n",
    "        self.temporal_convolution = nn.Conv2d(1, n_temporal_filters, (1, 25))\n",
    "\n",
    "        # We could implement the spatial convolution as a 1d, or 2d, or 3d convolution.\n",
    "        # We use 2d here.\n",
    "        self.spatial_convolution = nn.Conv2d(n_temporal_filters, n_spatial_filters, (input_shape[0], 1))\n",
    "\n",
    "        self.average_pool = nn.AvgPool2d((1, 75), stride=(1, 15))\n",
    "\n",
    "        # Final linear layer\n",
    "        self.n_dense_features = n_spatial_filters*(1 + ((input_shape[1] - 25 + 1) - 75) // 15)\n",
    "        self.dense = nn.Linear(self.n_dense_features, n_classes)\n",
    "        # you can also use 'self.dense = nn.LazyLinear(n_classes)' to avoid having to manually compute features\n",
    "\n",
    "        self.elu = nn.ELU()\n",
    "        return\n",
    "    \n",
    "    # declaring a forward method also makes the instance a callable.\n",
    "    # e.g.:\n",
    "    # model = ShallowConvNet()\n",
    "    # out = model(x)\n",
    "    def forward(self, x):\n",
    "        # x has shape (batch_size, input_shape[0], input_shape[1])\n",
    "        # Let H0 = input_shape[0], H1 = input_shape[1]\n",
    "        h = x\n",
    "\n",
    "        # note that h.view(-1, 1, h.shape[1], h.shape[2]) works normally but does not work with torchinfo\n",
    "        # this is because the torchinfo input has a weird shape\n",
    "        h = h.view(-1, 1, self.input_shape[0], self.input_shape[1]) # view as (batch_size, 1, input_shape[0], input_shape[1])\n",
    "        # Sometimes, view doesn't work and you have to use reshape. This is because of how tensors are stored in memory.\n",
    "\n",
    "        # 2d convolution takes inputs of shape (batch_size, num_channels, H, W)\n",
    "        h = self.temporal_convolution(h) # (batch_size, 1, H0, W0) -> (batch_size, n_temporal_filters, H0, W0 - 25 + 1)\n",
    "        h = self.elu(h)\n",
    "\n",
    "        h = self.spatial_convolution(h) # (batch_size, n_temporal_filters, H0, W0 - 25 + 1) -> (batch_size, n_spatial_filters, 1, W0 - 25 + 1)\n",
    "        h = self.elu(h)\n",
    "\n",
    "        h = h**2 # square\n",
    "        # alternatively, use torch.pow(h, 2.0)\n",
    "\n",
    "        h = self.average_pool(h) # (batch_size, n_spatial_filters, 1, W0 - 25 + 1) -> (batch_size, n_spatial_filters, 1, 1 + ((W0 - 25 + 1) - 75)//15)\n",
    "\n",
    "        h = torch.log(h) # (natural) log\n",
    "\n",
    "        h = h.view(h.shape[0], -1) # flatten the non-batch dimensions\n",
    "        h = self.dense(h) # (batch_size, self.n_dense_features) -> (batch_size, n_classes)\n",
    "\n",
    "        return h\n",
    "\n"
   ]
  },
  {
   "cell_type": "markdown",
   "metadata": {
    "id": "lyBOaUs1aHoN"
   },
   "source": [
    "# Summarizing modules"
   ]
  },
  {
   "cell_type": "code",
   "execution_count": null,
   "metadata": {
    "colab": {
     "base_uri": "https://localhost:8080/"
    },
    "id": "tExSIcpBU-MW",
    "outputId": "2d48dca0-cf14-4109-9093-c08d4ceb8c4b"
   },
   "outputs": [
    {
     "name": "stdout",
     "output_type": "stream",
     "text": [
      "Looking in indexes: https://pypi.org/simple, https://us-python.pkg.dev/colab-wheels/public/simple/\n",
      "Collecting torchinfo\n",
      "  Downloading torchinfo-1.7.2-py3-none-any.whl (22 kB)\n",
      "Installing collected packages: torchinfo\n",
      "Successfully installed torchinfo-1.7.2\n"
     ]
    }
   ],
   "source": [
    "# torchsummary is deprecated. Use torchinfo instead (https://github.com/TylerYep/torchinfo).\n",
    "!pip install torchinfo"
   ]
  },
  {
   "cell_type": "code",
   "execution_count": null,
   "metadata": {
    "colab": {
     "base_uri": "https://localhost:8080/"
    },
    "id": "a-z9Wy21aNb0",
    "outputId": "1c60b0b3-2c58-4371-cb1c-4da54b39bf3e"
   },
   "outputs": [
    {
     "name": "stdout",
     "output_type": "stream",
     "text": [
      "==========================================================================================\n",
      "Layer (type:depth-idx)                   Output Shape              Param #\n",
      "==========================================================================================\n",
      "ShallowConvNet                           [1, 4]                    --\n",
      "├─Conv2d: 1-1                            [1, 40, 22, 976]          1,040\n",
      "├─ELU: 1-2                               [1, 40, 22, 976]          --\n",
      "├─Conv2d: 1-3                            [1, 40, 1, 976]           35,240\n",
      "├─ELU: 1-4                               [1, 40, 1, 976]           --\n",
      "├─AvgPool2d: 1-5                         [1, 40, 1, 61]            --\n",
      "├─Linear: 1-6                            [1, 4]                    9,764\n",
      "==========================================================================================\n",
      "Total params: 46,044\n",
      "Trainable params: 46,044\n",
      "Non-trainable params: 0\n",
      "Total mult-adds (M): 56.73\n",
      "==========================================================================================\n",
      "Input size (MB): 0.09\n",
      "Forward/backward pass size (MB): 7.18\n",
      "Params size (MB): 0.18\n",
      "Estimated Total Size (MB): 7.46\n",
      "==========================================================================================\n"
     ]
    }
   ],
   "source": [
    "from torchinfo import summary\n",
    "# Only uses outputs of modules.\n",
    "print(summary(ShallowConvNet(), input_size=(22, 1000)))"
   ]
  },
  {
   "cell_type": "markdown",
   "metadata": {
    "id": "ZtBY24K5796W"
   },
   "source": [
    "# Using GPUs with pytorch"
   ]
  },
  {
   "cell_type": "code",
   "execution_count": null,
   "metadata": {
    "colab": {
     "base_uri": "https://localhost:8080/"
    },
    "id": "2H_kQQ6E72qf",
    "outputId": "1c3558cc-0721-44f8-b544-33ded8c3380b"
   },
   "outputs": [
    {
     "name": "stdout",
     "output_type": "stream",
     "text": [
      "True\n"
     ]
    }
   ],
   "source": [
    "# See https://pytorch.org/docs/stable/notes/cuda.html\n",
    "print(torch.cuda.is_available())\n",
    "device_id = 0 if torch.cuda.is_available() else 'cpu' # Equivalent to device_id = 'cuda:0'\n",
    "device = torch.device(device_id) # use these semantics to specify a specific device. "
   ]
  },
  {
   "cell_type": "code",
   "execution_count": null,
   "metadata": {
    "colab": {
     "base_uri": "https://localhost:8080/"
    },
    "id": "5VmzvUB-Iyxd",
    "outputId": "239fd30b-2ea1-4960-d694-f71d6bc89f35"
   },
   "outputs": [
    {
     "name": "stdout",
     "output_type": "stream",
     "text": [
      "cuda:0\n",
      "cuda:0\n",
      "cpu\n"
     ]
    }
   ],
   "source": [
    "print(torch.zeros(4).cuda().device)\n",
    "print(torch.zeros(4).to(device).device)\n",
    "print(torch.zeros(4).to('cpu').device)"
   ]
  },
  {
   "cell_type": "code",
   "execution_count": null,
   "metadata": {
    "colab": {
     "base_uri": "https://localhost:8080/"
    },
    "id": "W_wOjT9nGiet",
    "outputId": "903c4e56-5225-4f70-e86c-200c3e1026b5"
   },
   "outputs": [
    {
     "name": "stdout",
     "output_type": "stream",
     "text": [
      "Exception: Expected all tensors to be on the same device, but found at least two devices, cuda:0 and cpu!\n"
     ]
    }
   ],
   "source": [
    "# You can't mix cpu and gpu tensors!\n",
    "try:\n",
    "    torch.zeros(4).cuda() + torch.zeros(4)\n",
    "except Exception as e:\n",
    "    print(f'Exception: {str(e)}')"
   ]
  },
  {
   "cell_type": "markdown",
   "metadata": {
    "id": "9S7eX7-5743s"
   },
   "source": [
    "# Creating a dataset and dataloader"
   ]
  },
  {
   "cell_type": "code",
   "execution_count": null,
   "metadata": {
    "id": "ETBtJtJOMKtv"
   },
   "outputs": [],
   "source": [
    "# Split the data into training and validation sets\n",
    "from sklearn.model_selection import train_test_split\n",
    "X_train_np, X_val_np, y_train_np, y_val_np = train_test_split(X_train_valid, y_train_valid, test_size=0.2, random_state=12345)\n",
    "X_train = torch.FloatTensor(X_train_np).to(device)\n",
    "X_val = torch.FloatTensor(X_val_np).to(device)\n",
    "y_train = torch.LongTensor(y_train_np).to(device)\n",
    "y_val = torch.LongTensor(y_val_np).to(device)"
   ]
  },
  {
   "cell_type": "code",
   "execution_count": null,
   "metadata": {
    "id": "j4tCMgcV72tH"
   },
   "outputs": [],
   "source": [
    "class MyDataset(torch.utils.data.Dataset):\n",
    "    def __init__(self, X, Y):\n",
    "        if isinstance(X, np.ndarray):\n",
    "            self.X = torch.FloatTensor(X) # 32-bit float\n",
    "        else:\n",
    "            self.X = X\n",
    "        if isinstance(Y, np.ndarray):\n",
    "            self.Y = torch.LongTensor(Y) # integer type\n",
    "        else:\n",
    "            self.Y = Y\n",
    "        return\n",
    "    \n",
    "    def __len__(self):\n",
    "        return len(self.X)\n",
    "    \n",
    "    def __getitem__(self, index):\n",
    "        return self.X[index], self.Y[index]"
   ]
  },
  {
   "cell_type": "code",
   "execution_count": null,
   "metadata": {
    "id": "K2DnHPgZ72vR"
   },
   "outputs": [],
   "source": [
    "batch_size = 64\n",
    "train_dataset = MyDataset(X_train, y_train)\n",
    "train_dataloader = torch.utils.data.DataLoader(train_dataset, batch_size, shuffle=True)\n",
    "\n",
    "val_dataset = MyDataset(X_val, y_val)\n",
    "val_dataloader = torch.utils.data.DataLoader(val_dataset, batch_size, shuffle=False)"
   ]
  },
  {
   "cell_type": "code",
   "execution_count": null,
   "metadata": {
    "colab": {
     "base_uri": "https://localhost:8080/"
    },
    "id": "yjCEDq1jhk0p",
    "outputId": "eb96f161-d414-490d-d144-75eeed618e7d"
   },
   "outputs": [
    {
     "data": {
      "text/plain": [
       "(1692, 27)"
      ]
     },
     "execution_count": 44,
     "metadata": {},
     "output_type": "execute_result"
    }
   ],
   "source": [
    "len(train_dataset), len(train_dataloader)"
   ]
  },
  {
   "cell_type": "markdown",
   "metadata": {
    "id": "vju0uykf73Jg"
   },
   "source": [
    "# Training a model"
   ]
  },
  {
   "cell_type": "code",
   "execution_count": null,
   "metadata": {
    "id": "asRqrRYku3nY"
   },
   "outputs": [],
   "source": [
    "import tqdm # for progress bar"
   ]
  },
  {
   "cell_type": "code",
   "execution_count": null,
   "metadata": {
    "id": "7sWR10Toi0zu"
   },
   "outputs": [],
   "source": [
    "# Set the random seeds.\n",
    "# Sometimes some operations are not deterministic.\n",
    "# See https://pytorch.org/docs/stable/notes/randomness.html\n",
    "#   and https://pytorch.org/docs/stable/generated/torch.use_deterministic_algorithms.html\n",
    "torch.manual_seed(12345) # set the random seed for pytorch\n",
    "random.seed(12345) # just in case\n",
    "np.random.seed(12345) # just in case\n",
    "\n",
    "model = ShallowConvNet().to(device)\n",
    "# For weight regularization, add weight_decay=l2_regularization_strength to the optimizer instantiation,\n",
    "#   or implement it manually and add it to the loss before backward propagation.\n",
    "\n",
    "# Declare an optimizer that handles weight updates\n",
    "# This optimizer also has its own state dictionary\n",
    "optimizer = torch.optim.Adam(model.parameters())\n",
    "celoss = nn.CrossEntropyLoss()\n",
    "\n",
    "loss_hist = []\n",
    "val_loss_hist = []\n",
    "acc_hist = []\n",
    "val_acc_hist = []"
   ]
  },
  {
   "cell_type": "code",
   "execution_count": null,
   "metadata": {
    "colab": {
     "base_uri": "https://localhost:8080/"
    },
    "id": "5--1s2ZxYfCf",
    "outputId": "beda42ea-1e1b-4974-ea01-d60537a891f3"
   },
   "outputs": [
    {
     "name": "stderr",
     "output_type": "stream",
     "text": [
      "100%|██████████████████████████████| 10/10 [00:15<00:00,  1.57s/it, acc=0.79, val_acc=0.572]\n"
     ]
    }
   ],
   "source": [
    "num_epochs = 10\n",
    "\n",
    "# progress bar\n",
    "pbar = tqdm.tqdm(\n",
    "    range(num_epochs), position=0, leave=True,\n",
    "    bar_format='{l_bar}{bar:30}{r_bar}',\n",
    ")\n",
    "for epoch in pbar:\n",
    "    model.train() # set model to training mode.\n",
    "    for batch in train_dataloader:\n",
    "        optimizer.zero_grad() # clear gradients of parameters that optimizer is optimizing\n",
    "        x, y = batch\n",
    "\n",
    "        # x = x.to(device) # necessary if X is not on the same device as model\n",
    "        # y = y.to(device)\n",
    "\n",
    "        out = model(x) # shape (batch_size, n_classes)\n",
    "        loss = celoss(out, y) # calculate the cross entropy loss\n",
    "\n",
    "        loss.backward() # backpropagate\n",
    "        optimizer.step() # perform optimization step\n",
    "\n",
    "        # IMPORTANT: DO NOT store 'loss' by itself, since it references its entire computational graph.\n",
    "        # Otherwise you will run out of memory.\n",
    "        # You MUST use .item() to convert to a scalar or call .detach().\n",
    "        loss_hist.append(loss.item())\n",
    "    \n",
    "    model.eval() # set model to evaluation mode. Relevant for dropout, batchnorm, layernorm, etc.\n",
    "    # calculate accuracy for training and validation sets\n",
    "    ns = 0 # number of samples\n",
    "    nc = 0 # number of correct outputs\n",
    "    with torch.no_grad():\n",
    "        for batch in train_dataloader:\n",
    "            x, y = batch\n",
    "            out = model(x)\n",
    "            ns += len(y)\n",
    "            nc += (out.max(1)[1] == y).detach().cpu().numpy().sum()\n",
    "    acc_hist.append(nc/ns)\n",
    "\n",
    "    ns = 0 # number of samples\n",
    "    nc = 0 # number of correct outputs\n",
    "    with torch.no_grad():\n",
    "        for batch in val_dataloader:\n",
    "            x, y = batch\n",
    "            out = model(x)\n",
    "            loss = celoss(out, y)\n",
    "            val_loss_hist.append(loss.item())\n",
    "            ns += len(y)\n",
    "            nc += (out.max(1)[1] == y).detach().cpu().numpy().sum()\n",
    "    val_acc_hist.append(nc/ns)\n",
    "\n",
    "\n",
    "    # update progress bar postfix\n",
    "    pbar.set_postfix({'acc': acc_hist[-1], 'val_acc': val_acc_hist[-1]})"
   ]
  },
  {
   "cell_type": "code",
   "execution_count": null,
   "metadata": {
    "colab": {
     "base_uri": "https://localhost:8080/",
     "height": 441
    },
    "id": "VePreI2fcvNT",
    "outputId": "3dd6df27-374c-4af3-d307-26a452b20baa"
   },
   "outputs": [
    {
     "data": {
      "text/plain": [
       "<matplotlib.legend.Legend at 0x7fd83848cd30>"
      ]
     },
     "execution_count": 50,
     "metadata": {},
     "output_type": "execute_result"
    },
    {
     "data": {
      "image/png": "[encoded data removed]",
      "text/plain": [
       "<Figure size 600x400 with 2 Axes>"
      ]
     },
     "metadata": {
      "needs_background": "light"
     },
     "output_type": "display_data"
    }
   ],
   "source": [
    "plt.figure(dpi=100)\n",
    "plt.plot(loss_hist, label='training')\n",
    "plt.yscale('log')\n",
    "plt.ylabel('loss')\n",
    "plt.legend(loc='lower left')\n",
    "plt.xlabel('step (training)')\n",
    "plt.twiny()\n",
    "plt.plot(val_loss_hist, 'r', label='validation')\n",
    "plt.xlabel('step (validation)')\n",
    "plt.legend(loc='upper left')"
   ]
  },
  {
   "cell_type": "code",
   "execution_count": null,
   "metadata": {
    "colab": {
     "base_uri": "https://localhost:8080/",
     "height": 382
    },
    "id": "VZdeDUJ3cvPy",
    "outputId": "07705692-353d-453f-c4c4-6b28fe260de0"
   },
   "outputs": [
    {
     "data": {
      "image/png": "[encoded data removed]",
      "text/plain": [
       "<Figure size 600x400 with 1 Axes>"
      ]
     },
     "metadata": {
      "needs_background": "light"
     },
     "output_type": "display_data"
    }
   ],
   "source": [
    "plt.figure(dpi=100)\n",
    "plt.plot(acc_hist)\n",
    "plt.plot(val_acc_hist)\n",
    "plt.xlabel('epoch')\n",
    "plt.ylabel('accuracy')\n",
    "plt.legend(['training accuracy', 'validation accuracy'])\n",
    "plt.grid()"
   ]
  },
  {
   "cell_type": "markdown",
   "metadata": {
    "id": "LR_ilLPkxAFx"
   },
   "source": [
    "# Saving models"
   ]
  },
  {
   "cell_type": "code",
   "execution_count": null,
   "metadata": {
    "colab": {
     "base_uri": "https://localhost:8080/"
    },
    "id": "-Kjf2FuOw_ZU",
    "outputId": "fb5573ed-6b97-46b8-c823-a3fde2d0a6ae"
   },
   "outputs": [
    {
     "name": "stdout",
     "output_type": "stream",
     "text": [
      "<class 'collections.OrderedDict'>\n",
      "odict_keys(['temporal_convolution.weight', 'temporal_convolution.bias', 'spatial_convolution.weight', 'spatial_convolution.bias', 'dense.weight', 'dense.bias'])\n"
     ]
    }
   ],
   "source": [
    "print(type(model.state_dict()))\n",
    "print(model.state_dict().keys())"
   ]
  },
  {
   "cell_type": "code",
   "execution_count": null,
   "metadata": {
    "id": "pme--h0IxH46"
   },
   "outputs": [],
   "source": [
    "# Best to use .pt for file extensions\n",
    "# I used to think .pth was used, but it turns out it can have potential conflicts with python\n",
    "#   (See https://stackoverflow.com/questions/59095824/what-is-the-difference-between-pt-pth-and-pwf-extentions-in-pytorch)\n",
    "\n",
    "# Save only the model weights\n",
    "torch.save(model.state_dict(), 'shallowconvnet_weightsonly.pt')\n",
    "\n",
    "# Save an entire checkpoint\n",
    "checkpoint = {\n",
    "    'model': model.state_dict(),\n",
    "    'optimizer': optimizer.state_dict(),\n",
    "    'loss_hist': loss_hist,\n",
    "    'acc_hist': acc_hist,\n",
    "    'val_loss_hist': val_loss_hist,\n",
    "    'val_acc_hist': val_acc_hist,\n",
    "}\n",
    "torch.save(checkpoint, 'shallowconvnet_checkpoint.pt')"
   ]
  },
  {
   "cell_type": "code",
   "execution_count": null,
   "metadata": {
    "id": "VVYhqtUHioNu"
   },
   "outputs": [],
   "source": [
    "chkpt = torch.load('shallowconvnet_checkpoint.pt')"
   ]
  },
  {
   "cell_type": "code",
   "execution_count": null,
   "metadata": {
    "colab": {
     "base_uri": "https://localhost:8080/"
    },
    "id": "IVhtWb9DirT-",
    "outputId": "2993aa8f-a185-4879-ac36-0a6f076990d4"
   },
   "outputs": [
    {
     "data": {
      "text/plain": [
       "dict_keys(['model', 'optimizer', 'loss_hist', 'acc_hist', 'val_loss_hist', 'val_acc_hist'])"
      ]
     },
     "execution_count": 55,
     "metadata": {},
     "output_type": "execute_result"
    }
   ],
   "source": [
    "chkpt.keys()"
   ]
  },
  {
   "cell_type": "code",
   "execution_count": null,
   "metadata": {
    "colab": {
     "base_uri": "https://localhost:8080/"
    },
    "id": "UMROdvWGitzs",
    "outputId": "c0f3d161-e7b9-4f55-d99d-7375240d44cc"
   },
   "outputs": [
    {
     "data": {
      "text/plain": [
       "<All keys matched successfully>"
      ]
     },
     "execution_count": 56,
     "metadata": {},
     "output_type": "execute_result"
    }
   ],
   "source": [
    "model.load_state_dict(chkpt['model'])"
   ]
  },
  {
   "cell_type": "markdown",
   "metadata": {
    "id": "uiI4QrSS2Y56"
   },
   "source": [
    "#RNN"
   ]
  },
  {
   "cell_type": "code",
   "execution_count": null,
   "metadata": {
    "id": "pK3o8IRgdq89"
   },
   "outputs": [],
   "source": [
    "class RNNClassifier(nn.Module):\n",
    "    def __init__(self, input_dim=22, hidden_dim=20, output_dim=4):\n",
    "        super(RNNClassifier, self).__init__()\n",
    "        self.input_dim = input_dim\n",
    "        self.hidden_dim = hidden_dim\n",
    "        self.output_dim = output_dim\n",
    "        \n",
    "        self.rnn = nn.RNN(input_dim, hidden_dim, batch_first=True)\n",
    "        self.fc = nn.Linear(hidden_dim, output_dim)\n",
    "    \n",
    "    def forward(self, x, h_0=None):\n",
    "        # x has shape (batch_size, input_dim, timesteps)\n",
    "        # h_0 has shape (D*num_layers, hidden_dim)\n",
    "\n",
    "        z = x.permute(0, 2, 1) # (batch_size, input_dim, timesteps) -> (batch_size, timesteps, input_dim)\n",
    "        if h_0 is None:\n",
    "            z, hn = self.rnn(z) # (batch_size, timesteps, input_dim) -> (batch_size, timesteps, hidden_dim)\n",
    "        else:\n",
    "            # We detach h_0 (not required, just recommended) so that the computational graph does not extend too far.\n",
    "            z, hn = self.rnn(z, h_0.detach()) # (batch_size, timesteps, input_dim) -> (batch_size, timesteps, hidden_dim)\n",
    "        # hn is the stored hidden state after computation\n",
    "        out = self.fc(z[:, -1, :])\n",
    "        return out"
   ]
  },
  {
   "cell_type": "code",
   "execution_count": null,
   "metadata": {
    "id": "HxN0katse2oY"
   },
   "outputs": [],
   "source": [
    "# Note that sometimes RNNs run faster on cpu, but usually only if they're small.\n",
    "#device = torch.device('cpu')\n",
    "\n",
    "model = RNNClassifier(22, 64, 4).to(device)\n",
    "optimizer = torch.optim.Adam(model.parameters())\n",
    "celoss = nn.CrossEntropyLoss()\n",
    "\n",
    "loss_hist = []\n",
    "val_loss_hist = []\n",
    "acc_hist = []\n",
    "val_acc_hist = []"
   ]
  },
  {
   "cell_type": "code",
   "execution_count": null,
   "metadata": {
    "colab": {
     "base_uri": "https://localhost:8080/"
    },
    "id": "wgONxriBe2oY",
    "outputId": "4195e131-ba3b-4ff5-93de-b12aa5646e66"
   },
   "outputs": [
    {
     "name": "stderr",
     "output_type": "stream",
     "text": [
      "100%|██████████████████████████████| 50/50 [00:15<00:00,  3.13it/s, acc=0.664, val_acc=0.288]\n"
     ]
    }
   ],
   "source": [
    "num_epochs = 50\n",
    "\n",
    "# progress bar\n",
    "pbar = tqdm.tqdm(\n",
    "    range(num_epochs), position=0, leave=True,\n",
    "    bar_format='{l_bar}{bar:30}{r_bar}',\n",
    ")\n",
    "for epoch in pbar:\n",
    "    model.train() # set model to training mode.\n",
    "    for batch in train_dataloader:\n",
    "        optimizer.zero_grad() # clear gradients of parameters that optimizer is optimizing\n",
    "        x, y = batch\n",
    "\n",
    "        # x = x.to(device) # necessary if X is not on the same device as model\n",
    "        # y = y.to(device)\n",
    "\n",
    "        out = model(x) # shape (batch_size, n_classes)\n",
    "        loss = celoss(out, y) # calculate the cross entropy loss\n",
    "\n",
    "        loss.backward() # backpropagate\n",
    "        optimizer.step() # perform optimization step\n",
    "\n",
    "        # IMPORTANT: DO NOT store 'loss' by itself, since it references its entire computational graph.\n",
    "        # Otherwise you will run out of memory.\n",
    "        # You MUST use .item() to convert to a scalar or call .detach().\n",
    "        loss_hist.append(loss.item())\n",
    "    \n",
    "    model.eval() # set model to evaluation mode.\n",
    "    # calculate accuracy for training and validation sets\n",
    "    ns = 0 # number of samples\n",
    "    nc = 0 # number of correct outputs\n",
    "    with torch.no_grad():\n",
    "        for batch in train_dataloader:\n",
    "            x, y = batch\n",
    "            out = model(x)\n",
    "            ns += len(y)\n",
    "            nc += (out.max(1)[1] == y).detach().cpu().numpy().sum()\n",
    "    acc_hist.append(nc/ns)\n",
    "\n",
    "    ns = 0 # number of samples\n",
    "    nc = 0 # number of correct outputs\n",
    "    with torch.no_grad():\n",
    "        for batch in val_dataloader:\n",
    "            x, y = batch\n",
    "            out = model(x)\n",
    "            loss = celoss(out, y)\n",
    "            val_loss_hist.append(loss.item())\n",
    "            ns += len(y)\n",
    "            nc += (out.max(1)[1] == y).detach().cpu().numpy().sum()\n",
    "    val_acc_hist.append(nc/ns)\n",
    "\n",
    "\n",
    "    # update progress bar postfix\n",
    "    pbar.set_postfix({'acc': acc_hist[-1], 'val_acc': val_acc_hist[-1]})"
   ]
  },
  {
   "cell_type": "code",
   "execution_count": null,
   "metadata": {
    "colab": {
     "base_uri": "https://localhost:8080/",
     "height": 441
    },
    "id": "UsYfFh0le2oZ",
    "outputId": "25af78cb-b194-4afb-ec4d-a20ddd71450d"
   },
   "outputs": [
    {
     "data": {
      "text/plain": [
       "<matplotlib.legend.Legend at 0x7fd8381fb2b0>"
      ]
     },
     "execution_count": 60,
     "metadata": {},
     "output_type": "execute_result"
    },
    {
     "data": {
      "image/png": "[encoded data removed]",
      "text/plain": [
       "<Figure size 600x400 with 2 Axes>"
      ]
     },
     "metadata": {
      "needs_background": "light"
     },
     "output_type": "display_data"
    }
   ],
   "source": [
    "plt.figure(dpi=100)\n",
    "plt.plot(loss_hist, label='training')\n",
    "plt.yscale('log')\n",
    "plt.ylabel('loss')\n",
    "plt.legend(loc='lower left')\n",
    "plt.xlabel('step (training)')\n",
    "plt.twiny()\n",
    "plt.plot(val_loss_hist, 'r', label='validation')\n",
    "plt.xlabel('step (validation)')\n",
    "plt.legend(loc='upper left')"
   ]
  },
  {
   "cell_type": "code",
   "execution_count": null,
   "metadata": {
    "colab": {
     "base_uri": "https://localhost:8080/",
     "height": 382
    },
    "id": "tKehHgIme2oZ",
    "outputId": "e2dc086c-deea-410c-b19f-6acc7ad7510f"
   },
   "outputs": [
    {
     "data": {
      "image/png": "[encoded data removed]",
      "text/plain": [
       "<Figure size 600x400 with 1 Axes>"
      ]
     },
     "metadata": {
      "needs_background": "light"
     },
     "output_type": "display_data"
    }
   ],
   "source": [
    "plt.figure(dpi=100)\n",
    "plt.plot(acc_hist)\n",
    "plt.plot(val_acc_hist)\n",
    "plt.xlabel('epoch')\n",
    "plt.ylabel('accuracy')\n",
    "plt.legend(['training accuracy', 'validation accuracy'])\n",
    "plt.grid()"
   ]
  },
  {
   "cell_type": "code",
   "execution_count": null,
   "metadata": {
    "id": "xurK3eVQvW6q"
   },
   "outputs": [],
   "source": []
  }
 ],
 "metadata": {
  "accelerator": "GPU",
  "colab": {
   "provenance": []
  },
  "gpuClass": "standard",
  "kernelspec": {
   "display_name": "Python 3",
   "language": "python",
   "name": "python3"
  },
  "language_info": {
   "codemirror_mode": {
    "name": "ipython",
    "version": 3
   },
   "file_extension": ".py",
   "mimetype": "text/x-python",
   "name": "python",
   "nbconvert_exporter": "python",
   "pygments_lexer": "ipython3",
   "version": "3.7.15"
  }
 },
 "nbformat": 4,
 "nbformat_minor": 4
}
