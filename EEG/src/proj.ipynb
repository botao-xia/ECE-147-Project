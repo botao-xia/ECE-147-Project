{
 "cells": [
  {
   "cell_type": "code",
   "execution_count": 1,
   "id": "2b24e767-f188-4a27-8eff-ffd16fa731df",
   "metadata": {},
   "outputs": [
    {
     "name": "stderr",
     "output_type": "stream",
     "text": [
      "/home/danny/miniconda3/envs/rl/lib/python3.7/site-packages/tqdm/auto.py:21: TqdmWarning: IProgress not found. Please update jupyter and ipywidgets. See https://ipywidgets.readthedocs.io/en/stable/user_install.html\n",
      "  from .autonotebook import tqdm as notebook_tqdm\n"
     ]
    }
   ],
   "source": [
    "import torch\n",
    "from train import train\n",
    "from data_module import EEGDataModule\n",
    "from model import ViTransformer, LSTM, ConvLSTM, DeepConvNet, RNN, LSTM, ShallowConvNet\n",
    "from ATCNet import ATCNet"
   ]
  },
  {
   "cell_type": "code",
   "execution_count": 2,
   "id": "75d93f99-2d57-47c9-8b29-a22efbdf2332",
   "metadata": {},
   "outputs": [],
   "source": [
    "%load_ext autoreload\n",
    "%autoreload 2"
   ]
  },
  {
   "cell_type": "code",
   "execution_count": 3,
   "id": "0e78fa79-6161-429e-9faa-0f71d85f8ad7",
   "metadata": {},
   "outputs": [],
   "source": [
    "device = torch.device(0)"
   ]
  },
  {
   "cell_type": "code",
   "execution_count": 4,
   "id": "a6cb696c-7808-4c47-826d-640e3116164f",
   "metadata": {},
   "outputs": [],
   "source": [
    "from preprocessing import mean_max_subsampling"
   ]
  },
  {
   "cell_type": "code",
   "execution_count": 5,
   "id": "96707763-f722-4806-9960-9036c03476bb",
   "metadata": {},
   "outputs": [],
   "source": [
    "train_params = {\n",
    "    \"train_epochs\": 10,\n",
    "    \"accumulate_grad_batches\": 1,\n",
    "    \"test_size\": 0.2,\n",
    "    \"random_state\": 42,\n",
    "    \"data_dir\": \"../../Data/\",\n",
    "    \"train_batch_size\": 64,\n",
    "    \"eval_batch_size\": 32\n",
    "}"
   ]
  },
  {
   "cell_type": "code",
   "execution_count": 6,
   "id": "c5ecccf7-e10f-4054-ba15-28fe119cc693",
   "metadata": {},
   "outputs": [],
   "source": [
    "dataset = EEGDataModule(args=train_params)"
   ]
  },
  {
   "cell_type": "code",
   "execution_count": 7,
   "id": "03cfc735-4206-4b77-98e3-b681a4021765",
   "metadata": {},
   "outputs": [
    {
     "name": "stderr",
     "output_type": "stream",
     "text": [
      "INFO:data_module:Training data shape: (1692, 22, 1000)\n",
      "INFO:data_module:Training labels shape: (1692,)\n"
     ]
    }
   ],
   "source": [
    "dataset.setup(transform=None)"
   ]
  },
  {
   "cell_type": "code",
   "execution_count": 8,
   "id": "c2ccad1d-306e-4921-922c-ffd7614c778e",
   "metadata": {},
   "outputs": [
    {
     "name": "stderr",
     "output_type": "stream",
     "text": [
      "INFO:data_module:loaded 1692 train data instances\n",
      "INFO:data_module:loaded 423 train data instances\n"
     ]
    }
   ],
   "source": [
    "train_dataloader, valid_dataloader = dataset.train_dataloader(), dataset.val_dataloader()"
   ]
  },
  {
   "cell_type": "code",
   "execution_count": 9,
   "id": "f36cd515-5df8-4d5f-b3f3-d66381201704",
   "metadata": {},
   "outputs": [
    {
     "name": "stderr",
     "output_type": "stream",
     "text": [
      "/home/danny/Desktop/ECE-147-Project/EEG/src/ATCNet.py:240: UserWarning: nn.init.kaiming_uniform is now deprecated in favor of nn.init.kaiming_uniform_.\n",
      "  torch.nn.init.kaiming_uniform(conv.weight)\n",
      "/home/danny/Desktop/ECE-147-Project/EEG/src/ATCNet.py:242: UserWarning: nn.init.kaiming_uniform is now deprecated in favor of nn.init.kaiming_uniform_.\n",
      "  torch.nn.init.kaiming_uniform(conv.weight)\n",
      "/home/danny/miniconda3/envs/rl/lib/python3.7/site-packages/torch/nn/modules/lazy.py:180: UserWarning: Lazy modules are a new feature under heavy development so changes to the API or functionality can happen at any moment.\n",
      "  warnings.warn('Lazy modules are a new feature under heavy development '\n"
     ]
    }
   ],
   "source": [
    "model = ATCNet()"
   ]
  },
  {
   "cell_type": "code",
   "execution_count": 10,
   "id": "64b4275f-cda8-46f6-995f-ccf43196bae1",
   "metadata": {},
   "outputs": [
    {
     "name": "stdout",
     "output_type": "stream",
     "text": [
      "================================================================================\n",
      "Layer (type:depth-idx)                                  Param #\n",
      "================================================================================\n",
      "ATCNet                                                  --\n",
      "├─Convolution_module: 1-1                               --\n",
      "│    └─Conv2d: 2-1                                      1,024\n",
      "│    └─BatchNorm2d: 2-2                                 32\n",
      "│    └─Conv2d: 2-3                                      704\n",
      "│    └─BatchNorm2d: 2-4                                 64\n",
      "│    └─ELU: 2-5                                         --\n",
      "│    └─AvgPool2d: 2-6                                   --\n",
      "│    └─AvgPool2d: 2-7                                   --\n",
      "│    └─Dropout: 2-8                                     --\n",
      "│    └─Dropout: 2-9                                     --\n",
      "│    └─Conv2d: 2-10                                     16,384\n",
      "│    └─BatchNorm2d: 2-11                                64\n",
      "├─ModuleList: 1-2                                       --\n",
      "│    └─MultiheadAttention: 2-12                         3,168\n",
      "│    │    └─NonDynamicallyQuantizableLinear: 3-1        1,056\n",
      "│    └─MultiheadAttention: 2-13                         3,168\n",
      "│    │    └─NonDynamicallyQuantizableLinear: 3-2        1,056\n",
      "│    └─MultiheadAttention: 2-14                         3,168\n",
      "│    │    └─NonDynamicallyQuantizableLinear: 3-3        1,056\n",
      "│    └─MultiheadAttention: 2-15                         3,168\n",
      "│    │    └─NonDynamicallyQuantizableLinear: 3-4        1,056\n",
      "│    └─MultiheadAttention: 2-16                         3,168\n",
      "│    │    └─NonDynamicallyQuantizableLinear: 3-5        1,056\n",
      "├─ModuleList: 1-3                                       --\n",
      "│    └─TCN: 2-17                                        --\n",
      "│    │    └─ModuleList: 3-6                             8,256\n",
      "│    │    └─ModuleList: 3-7                             8,256\n",
      "│    │    └─ModuleList: 3-8                             128\n",
      "│    │    └─ModuleList: 3-9                             128\n",
      "│    │    └─ModuleList: 3-10                            --\n",
      "│    │    └─ELU: 3-11                                   --\n",
      "│    └─TCN: 2-18                                        --\n",
      "│    │    └─ModuleList: 3-12                            8,256\n",
      "│    │    └─ModuleList: 3-13                            8,256\n",
      "│    │    └─ModuleList: 3-14                            128\n",
      "│    │    └─ModuleList: 3-15                            128\n",
      "│    │    └─ModuleList: 3-16                            --\n",
      "│    │    └─ELU: 3-17                                   --\n",
      "│    └─TCN: 2-19                                        --\n",
      "│    │    └─ModuleList: 3-18                            8,256\n",
      "│    │    └─ModuleList: 3-19                            8,256\n",
      "│    │    └─ModuleList: 3-20                            128\n",
      "│    │    └─ModuleList: 3-21                            128\n",
      "│    │    └─ModuleList: 3-22                            --\n",
      "│    │    └─ELU: 3-23                                   --\n",
      "│    └─TCN: 2-20                                        --\n",
      "│    │    └─ModuleList: 3-24                            8,256\n",
      "│    │    └─ModuleList: 3-25                            8,256\n",
      "│    │    └─ModuleList: 3-26                            128\n",
      "│    │    └─ModuleList: 3-27                            128\n",
      "│    │    └─ModuleList: 3-28                            --\n",
      "│    │    └─ELU: 3-29                                   --\n",
      "│    └─TCN: 2-21                                        --\n",
      "│    │    └─ModuleList: 3-30                            8,256\n",
      "│    │    └─ModuleList: 3-31                            8,256\n",
      "│    │    └─ModuleList: 3-32                            128\n",
      "│    │    └─ModuleList: 3-33                            128\n",
      "│    │    └─ModuleList: 3-34                            --\n",
      "│    │    └─ELU: 3-35                                   --\n",
      "├─ModuleList: 1-4                                       --\n",
      "│    └─LazyLinear: 2-22                                 --\n",
      "│    └─LazyLinear: 2-23                                 --\n",
      "│    └─LazyLinear: 2-24                                 --\n",
      "│    └─LazyLinear: 2-25                                 --\n",
      "│    └─LazyLinear: 2-26                                 --\n",
      "================================================================================\n",
      "Total params: 123,232\n",
      "Trainable params: 123,232\n",
      "Non-trainable params: 0\n",
      "================================================================================\n"
     ]
    }
   ],
   "source": [
    "from torchinfo import summary\n",
    "# Only uses outputs of modules.\n",
    "print(summary(model))"
   ]
  },
  {
   "cell_type": "code",
   "execution_count": 11,
   "id": "ed85ceb9-9bdf-4d03-a123-59a7f5a54736",
   "metadata": {},
   "outputs": [
    {
     "name": "stderr",
     "output_type": "stream",
     "text": [
      "  0%|                              | 0/100 [00:00<?, ?it/s]/home/danny/miniconda3/envs/rl/lib/python3.7/site-packages/torch/nn/modules/conv.py:460: UserWarning: Using padding='same' with even kernel lengths and odd dilation may require a zero-padded copy of the input be created (Triggered internally at /opt/conda/conda-bld/pytorch_1666642814471/work/aten/src/ATen/native/Convolution.cpp:895.)\n",
      "  self.padding, self.dilation, self.groups)\n",
      "100%|██████████████████████████████| 100/100 [01:20<00:00,  1.24it/s, acc=0.974, val_acc=0.655]\n"
     ]
    }
   ],
   "source": [
    "loss_hist, acc_hist, val_loss_hist, val_acc_hist = train(model, train_dataloader, valid_dataloader, device, weight_decay=1e-5)"
   ]
  },
  {
   "cell_type": "code",
   "execution_count": 12,
   "id": "8a4e88bc-98a1-42dd-bc2f-97c50f4b2121",
   "metadata": {},
   "outputs": [
    {
     "data": {
      "text/plain": [
       "0.6469507217407227"
      ]
     },
     "execution_count": 12,
     "metadata": {},
     "output_type": "execute_result"
    }
   ],
   "source": [
    "import numpy as np\n",
    "val_loss_hist[np.argmin(val_loss_hist)]"
   ]
  },
  {
   "cell_type": "code",
   "execution_count": 13,
   "id": "146dbfa9-9e50-4d89-8b13-d632cceeb219",
   "metadata": {},
   "outputs": [
    {
     "data": {
      "text/plain": [
       "0.9739952718676123"
      ]
     },
     "execution_count": 13,
     "metadata": {},
     "output_type": "execute_result"
    }
   ],
   "source": [
    "acc_hist[99]"
   ]
  },
  {
   "cell_type": "code",
   "execution_count": 14,
   "id": "156c4424-6ed3-4a7e-946d-ed3cfffc0e8d",
   "metadata": {},
   "outputs": [
    {
     "name": "stdout",
     "output_type": "stream",
     "text": [
      "90\n"
     ]
    }
   ],
   "source": [
    "print(np.argmin(loss_hist))"
   ]
  },
  {
   "cell_type": "code",
   "execution_count": 15,
   "id": "0f97e2ff-e02d-4c47-894b-ebd1278482a9",
   "metadata": {},
   "outputs": [
    {
     "data": {
      "text/plain": [
       "0.21018585562705994"
      ]
     },
     "execution_count": 15,
     "metadata": {},
     "output_type": "execute_result"
    }
   ],
   "source": [
    "loss_hist[81]"
   ]
  },
  {
   "cell_type": "code",
   "execution_count": null,
   "id": "1533253a-5a0f-47b2-992c-76e9b1c05678",
   "metadata": {},
   "outputs": [],
   "source": []
  }
 ],
 "metadata": {
  "kernelspec": {
   "display_name": "Python 3",
   "language": "python",
   "name": "python3"
  },
  "language_info": {
   "codemirror_mode": {
    "name": "ipython",
    "version": 3
   },
   "file_extension": ".py",
   "mimetype": "text/x-python",
   "name": "python",
   "nbconvert_exporter": "python",
   "pygments_lexer": "ipython3",
   "version": "3.7.15"
  }
 },
 "nbformat": 4,
 "nbformat_minor": 5
}
