{
 "cells": [
  {
   "cell_type": "code",
   "execution_count": 1,
   "id": "2b24e767-f188-4a27-8eff-ffd16fa731df",
   "metadata": {},
   "outputs": [
    {
     "name": "stderr",
     "output_type": "stream",
     "text": [
      "/home/danny/miniconda3/envs/rl/lib/python3.7/site-packages/tqdm/auto.py:21: TqdmWarning: IProgress not found. Please update jupyter and ipywidgets. See https://ipywidgets.readthedocs.io/en/stable/user_install.html\n",
      "  from .autonotebook import tqdm as notebook_tqdm\n"
     ]
    }
   ],
   "source": [
    "import torch\n",
    "from train import train\n",
    "from data_module import EEGDataModule\n",
    "from model import ViTransformer, LSTM, ConvLSTM, DeepConvNet, RNN, LSTM, ShallowConvNet, EEGNet_Modified\n",
    "from ATCNet import ATCNet"
   ]
  },
  {
   "cell_type": "code",
   "execution_count": 2,
   "id": "75d93f99-2d57-47c9-8b29-a22efbdf2332",
   "metadata": {},
   "outputs": [],
   "source": [
    "%load_ext autoreload\n",
    "%autoreload 2"
   ]
  },
  {
   "cell_type": "code",
   "execution_count": 3,
   "id": "0e78fa79-6161-429e-9faa-0f71d85f8ad7",
   "metadata": {},
   "outputs": [],
   "source": [
    "device = torch.device(0)"
   ]
  },
  {
   "cell_type": "code",
   "execution_count": 4,
   "id": "a6cb696c-7808-4c47-826d-640e3116164f",
   "metadata": {},
   "outputs": [],
   "source": [
    "from preprocessing import mean_max_subsampling"
   ]
  },
  {
   "cell_type": "code",
   "execution_count": 5,
   "id": "96707763-f722-4806-9960-9036c03476bb",
   "metadata": {},
   "outputs": [],
   "source": [
    "train_params = {\n",
    "    \"train_epochs\": 10,\n",
    "    \"accumulate_grad_batches\": 1,\n",
    "    \"test_size\": 0.2,\n",
    "    \"random_state\": 42,\n",
    "    \"data_dir\": \"../../Data/\",\n",
    "    \"train_batch_size\": 64,\n",
    "    \"eval_batch_size\": 32\n",
    "}"
   ]
  },
  {
   "cell_type": "code",
   "execution_count": 6,
   "id": "c5ecccf7-e10f-4054-ba15-28fe119cc693",
   "metadata": {},
   "outputs": [],
   "source": [
    "dataset = EEGDataModule(args=train_params)"
   ]
  },
  {
   "cell_type": "code",
   "execution_count": 7,
   "id": "03cfc735-4206-4b77-98e3-b681a4021765",
   "metadata": {},
   "outputs": [
    {
     "name": "stderr",
     "output_type": "stream",
     "text": [
      "INFO:data_module:Training data shape: (1692, 22, 1000)\n",
      "INFO:data_module:Training labels shape: (1692,)\n"
     ]
    }
   ],
   "source": [
    "dataset.setup(transform=None)"
   ]
  },
  {
   "cell_type": "code",
   "execution_count": 8,
   "id": "c2ccad1d-306e-4921-922c-ffd7614c778e",
   "metadata": {},
   "outputs": [
    {
     "name": "stderr",
     "output_type": "stream",
     "text": [
      "INFO:data_module:loaded 1692 train data instances\n",
      "INFO:data_module:loaded 423 train data instances\n"
     ]
    }
   ],
   "source": [
    "train_dataloader, valid_dataloader = dataset.train_dataloader(), dataset.val_dataloader()"
   ]
  },
  {
   "cell_type": "code",
   "execution_count": 9,
   "id": "f36cd515-5df8-4d5f-b3f3-d66381201704",
   "metadata": {},
   "outputs": [
    {
     "name": "stderr",
     "output_type": "stream",
     "text": [
      "/home/danny/miniconda3/envs/rl/lib/python3.7/site-packages/torch/nn/modules/lazy.py:180: UserWarning: Lazy modules are a new feature under heavy development so changes to the API or functionality can happen at any moment.\n",
      "  warnings.warn('Lazy modules are a new feature under heavy development '\n"
     ]
    }
   ],
   "source": [
    "model = EEGNet_Modified()"
   ]
  },
  {
   "cell_type": "code",
   "execution_count": 10,
   "id": "64b4275f-cda8-46f6-995f-ccf43196bae1",
   "metadata": {},
   "outputs": [
    {
     "name": "stdout",
     "output_type": "stream",
     "text": [
      "=================================================================\n",
      "Layer (type:depth-idx)                   Param #\n",
      "=================================================================\n",
      "EEGNet_Modified                          --\n",
      "├─Conv2d: 1-1                            512\n",
      "├─BatchNorm2d: 1-2                       16\n",
      "├─Conv2d: 1-3                            704\n",
      "├─BatchNorm2d: 1-4                       64\n",
      "├─ELU: 1-5                               --\n",
      "├─AvgPool2d: 1-6                         --\n",
      "├─AvgPool2d: 1-7                         --\n",
      "├─Dropout: 1-8                           --\n",
      "├─Dropout: 1-9                           --\n",
      "├─Conv2d: 1-10                           16,384\n",
      "├─BatchNorm2d: 1-11                      64\n",
      "├─LazyLinear: 1-12                       --\n",
      "=================================================================\n",
      "Total params: 17,744\n",
      "Trainable params: 17,744\n",
      "Non-trainable params: 0\n",
      "=================================================================\n"
     ]
    }
   ],
   "source": [
    "from torchinfo import summary\n",
    "# Only uses outputs of modules.\n",
    "print(summary(model))"
   ]
  },
  {
   "cell_type": "code",
   "execution_count": 11,
   "id": "ed85ceb9-9bdf-4d03-a123-59a7f5a54736",
   "metadata": {},
   "outputs": [
    {
     "name": "stderr",
     "output_type": "stream",
     "text": [
      "  0%|                              | 0/100 [00:00<?, ?it/s]/home/danny/miniconda3/envs/rl/lib/python3.7/site-packages/torch/nn/modules/conv.py:460: UserWarning: Using padding='same' with even kernel lengths and odd dilation may require a zero-padded copy of the input be created (Triggered internally at /opt/conda/conda-bld/pytorch_1666642814471/work/aten/src/ATen/native/Convolution.cpp:895.)\n",
      "  self.padding, self.dilation, self.groups)\n",
      "100%|██████████████████████████████| 100/100 [00:35<00:00,  2.79it/s, acc=0.985, val_acc=0.73]\n"
     ]
    }
   ],
   "source": [
    "loss_hist, acc_hist, val_loss_hist, val_acc_hist = train(model, train_dataloader, valid_dataloader, device, weight_decay=1e-5)"
   ]
  },
  {
   "cell_type": "code",
   "execution_count": 16,
   "id": "1533253a-5a0f-47b2-992c-76e9b1c05678",
   "metadata": {},
   "outputs": [],
   "source": [
    "model = EEGNet_Modified()"
   ]
  },
  {
   "cell_type": "code",
   "execution_count": 17,
   "id": "880e59e0-1899-4617-bf95-be5026df559e",
   "metadata": {},
   "outputs": [
    {
     "data": {
      "text/plain": [
       "<All keys matched successfully>"
      ]
     },
     "execution_count": 17,
     "metadata": {},
     "output_type": "execute_result"
    }
   ],
   "source": [
    "model.load_state_dict(torch.load(\"./model/EEG_modified\"))"
   ]
  },
  {
   "cell_type": "code",
   "execution_count": 22,
   "id": "00067e14-70e3-4ffe-b67d-6aa55b4392fb",
   "metadata": {},
   "outputs": [
    {
     "data": {
      "text/plain": [
       "EEGNet_Modified(\n",
       "  (temporal_conv1): Conv2d(1, 8, kernel_size=(1, 64), stride=(1, 1), padding=same, bias=False)\n",
       "  (batch_norm_1): BatchNorm2d(8, eps=1e-05, momentum=0.1, affine=True, track_running_stats=True)\n",
       "  (depth_wise_conv): Conv2d(8, 32, kernel_size=(22, 1), stride=(1, 1), groups=8, bias=False)\n",
       "  (batch_norm_2): BatchNorm2d(32, eps=1e-05, momentum=0.1, affine=True, track_running_stats=True)\n",
       "  (elu): ELU(alpha=1.0)\n",
       "  (average_pool1): AvgPool2d(kernel_size=(1, 8), stride=(1, 8), padding=0)\n",
       "  (average_pool2): AvgPool2d(kernel_size=(1, 8), stride=(1, 8), padding=0)\n",
       "  (dropout1): Dropout(p=0.3, inplace=False)\n",
       "  (dropout2): Dropout(p=0.3, inplace=False)\n",
       "  (spatial_conv1): Conv2d(32, 32, kernel_size=(1, 16), stride=(1, 1), padding=same, bias=False)\n",
       "  (batch_norm_3): BatchNorm2d(32, eps=1e-05, momentum=0.1, affine=True, track_running_stats=True)\n",
       "  (temp_linear): LazyLinear(in_features=0, out_features=4, bias=True)\n",
       ")"
      ]
     },
     "execution_count": 22,
     "metadata": {},
     "output_type": "execute_result"
    }
   ],
   "source": [
    "model.eval()"
   ]
  },
  {
   "cell_type": "code",
   "execution_count": 28,
   "id": "a43a4421-890a-46f3-8d9a-856d24ff87a2",
   "metadata": {},
   "outputs": [],
   "source": [
    "def eval(dataloader, model):\n",
    "    ns = 0\n",
    "    nc = 0\n",
    "    with torch.no_grad():\n",
    "        for batch in dataloader:\n",
    "            x, y = batch\n",
    "            if device is not None:\n",
    "                x = x.to(device)\n",
    "                y = y.to(device)\n",
    "            out = model(x)\n",
    "            ns += len(y)\n",
    "            nc += (out.max(1)[1] == y).detach().cpu().numpy().sum()\n",
    "    return nc/ns"
   ]
  },
  {
   "cell_type": "code",
   "execution_count": 29,
   "id": "7c1b998e-9af8-4797-bbaf-d3e25e8d8d6f",
   "metadata": {},
   "outputs": [
    {
     "name": "stderr",
     "output_type": "stream",
     "text": [
      "INFO:data_module:loaded 443 train data instances\n"
     ]
    }
   ],
   "source": [
    "test_dataloader = dataset.test_dataloader()"
   ]
  },
  {
   "cell_type": "code",
   "execution_count": 30,
   "id": "705f529b-ea9f-4f92-9c40-73c45bb8ca6d",
   "metadata": {},
   "outputs": [
    {
     "data": {
      "text/plain": [
       "(0.6997742663656885, None)"
      ]
     },
     "execution_count": 30,
     "metadata": {},
     "output_type": "execute_result"
    }
   ],
   "source": [
    "eval(test_dataloader, model.to(device))"
   ]
  },
  {
   "cell_type": "code",
   "execution_count": 32,
   "id": "80970e2c-62e3-440c-889d-ea1ff941ef71",
   "metadata": {},
   "outputs": [
    {
     "data": {
      "text/plain": [
       "(0.6704288939051919, None)"
      ]
     },
     "execution_count": 32,
     "metadata": {},
     "output_type": "execute_result"
    }
   ],
   "source": [
    "model = ATCNet()\n",
    "model.load_state_dict(torch.load(\"./model/ATCNet\"))\n",
    "model.eval()\n",
    "eval(test_dataloader, model.to(device))"
   ]
  },
  {
   "cell_type": "code",
   "execution_count": 33,
   "id": "01c49680-77d0-421d-a573-6a8f721f8b51",
   "metadata": {},
   "outputs": [
    {
     "data": {
      "text/plain": [
       "(0.636568848758465, None)"
      ]
     },
     "execution_count": 33,
     "metadata": {},
     "output_type": "execute_result"
    }
   ],
   "source": [
    "model = DeepConvNet()\n",
    "model.load_state_dict(torch.load(\"./model/DeepConvNet\"))\n",
    "model.eval()\n",
    "eval(test_dataloader, model.to(device))"
   ]
  },
  {
   "cell_type": "code",
   "execution_count": 34,
   "id": "3af5142d-b6f5-4ea1-98ce-e119f9aab725",
   "metadata": {},
   "outputs": [
    {
     "data": {
      "text/plain": [
       "(0.5507900677200903, None)"
      ]
     },
     "execution_count": 34,
     "metadata": {},
     "output_type": "execute_result"
    }
   ],
   "source": [
    "model = ShallowConvNet()\n",
    "model.load_state_dict(torch.load(\"./model/ShallowConvNet\"))\n",
    "model.eval()\n",
    "eval(test_dataloader, model.to(device))"
   ]
  },
  {
   "cell_type": "code",
   "execution_count": null,
   "id": "ee341e50-4256-404f-a240-81bd9c716b5c",
   "metadata": {},
   "outputs": [],
   "source": []
  }
 ],
 "metadata": {
  "kernelspec": {
   "display_name": "Python 3",
   "language": "python",
   "name": "python3"
  },
  "language_info": {
   "codemirror_mode": {
    "name": "ipython",
    "version": 3
   },
   "file_extension": ".py",
   "mimetype": "text/x-python",
   "name": "python",
   "nbconvert_exporter": "python",
   "pygments_lexer": "ipython3",
   "version": "3.7.15"
  }
 },
 "nbformat": 4,
 "nbformat_minor": 5
}
