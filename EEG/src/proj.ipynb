{
 "cells": [
  {
   "cell_type": "code",
   "execution_count": 1,
   "id": "2b24e767-f188-4a27-8eff-ffd16fa731df",
   "metadata": {},
   "outputs": [
    {
     "name": "stderr",
     "output_type": "stream",
     "text": [
      "/home/danny/miniconda3/envs/rl/lib/python3.7/site-packages/tqdm/auto.py:21: TqdmWarning: IProgress not found. Please update jupyter and ipywidgets. See https://ipywidgets.readthedocs.io/en/stable/user_install.html\n",
      "  from .autonotebook import tqdm as notebook_tqdm\n"
     ]
    }
   ],
   "source": [
    "import torch\n",
    "from train import train_loop\n",
    "from data_module import EEGDataModule\n",
    "from model import ViTransformer, LSTM, ConvLSTM, DeepConvNet"
   ]
  },
  {
   "cell_type": "code",
   "execution_count": 2,
   "id": "75d93f99-2d57-47c9-8b29-a22efbdf2332",
   "metadata": {},
   "outputs": [],
   "source": [
    "%load_ext autoreload\n",
    "%autoreload 2"
   ]
  },
  {
   "cell_type": "code",
   "execution_count": 3,
   "id": "0e78fa79-6161-429e-9faa-0f71d85f8ad7",
   "metadata": {},
   "outputs": [],
   "source": [
    "device = torch.device(0)"
   ]
  },
  {
   "cell_type": "code",
   "execution_count": 4,
   "id": "a6cb696c-7808-4c47-826d-640e3116164f",
   "metadata": {},
   "outputs": [],
   "source": [
    "from preprocessing import mean_max_subsampling"
   ]
  },
  {
   "cell_type": "code",
   "execution_count": 5,
   "id": "96707763-f722-4806-9960-9036c03476bb",
   "metadata": {},
   "outputs": [],
   "source": [
    "train_params = {\n",
    "    \"train_epochs\": 10,\n",
    "    \"accumulate_grad_batches\": 1,\n",
    "    \"test_size\": 0.2,\n",
    "    \"random_state\": 42,\n",
    "    \"data_dir\": \"../../Data/\",\n",
    "    \"train_batch_size\": 64,\n",
    "    \"eval_batch_size\": 1\n",
    "}"
   ]
  },
  {
   "cell_type": "code",
   "execution_count": 6,
   "id": "c5ecccf7-e10f-4054-ba15-28fe119cc693",
   "metadata": {},
   "outputs": [],
   "source": [
    "dataset = EEGDataModule(args=train_params)"
   ]
  },
  {
   "cell_type": "code",
   "execution_count": 7,
   "id": "03cfc735-4206-4b77-98e3-b681a4021765",
   "metadata": {},
   "outputs": [
    {
     "name": "stderr",
     "output_type": "stream",
     "text": [
      "INFO:data_module:Training data shape: (1692, 22, 1000)\n",
      "INFO:data_module:Training labels shape: (1692,)\n"
     ]
    }
   ],
   "source": [
    "dataset.setup(transform=None)"
   ]
  },
  {
   "cell_type": "code",
   "execution_count": 8,
   "id": "c2ccad1d-306e-4921-922c-ffd7614c778e",
   "metadata": {},
   "outputs": [
    {
     "name": "stderr",
     "output_type": "stream",
     "text": [
      "INFO:data_module:loaded 1692 train data instances\n",
      "INFO:data_module:loaded 423 train data instances\n"
     ]
    }
   ],
   "source": [
    "train, valid = dataset.train_dataloader(), dataset.val_dataloader()"
   ]
  },
  {
   "cell_type": "code",
   "execution_count": 9,
   "id": "f36cd515-5df8-4d5f-b3f3-d66381201704",
   "metadata": {},
   "outputs": [
    {
     "name": "stderr",
     "output_type": "stream",
     "text": [
      "/home/danny/miniconda3/envs/rl/lib/python3.7/site-packages/torch/nn/modules/lazy.py:180: UserWarning: Lazy modules are a new feature under heavy development so changes to the API or functionality can happen at any moment.\n",
      "  warnings.warn('Lazy modules are a new feature under heavy development '\n"
     ]
    }
   ],
   "source": [
    "model = DeepConvNet()"
   ]
  },
  {
   "cell_type": "code",
   "execution_count": 10,
   "id": "64b4275f-cda8-46f6-995f-ccf43196bae1",
   "metadata": {},
   "outputs": [
    {
     "name": "stdout",
     "output_type": "stream",
     "text": [
      "=================================================================\n",
      "Layer (type:depth-idx)                   Param #\n",
      "=================================================================\n",
      "DeepConvNet                              --\n",
      "├─Conv2d: 1-1                            520\n",
      "├─Conv2d: 1-2                            8,820\n",
      "├─MaxPool1d: 1-3                         --\n",
      "├─Conv1d: 1-4                            5,025\n",
      "├─Conv1d: 1-5                            12,550\n",
      "├─BatchNorm1d: 1-6                       50\n",
      "├─BatchNorm1d: 1-7                       100\n",
      "├─BatchNorm1d: 1-8                       40\n",
      "├─Dropout: 1-9                           --\n",
      "├─LazyLinear: 1-10                       --\n",
      "├─ELU: 1-11                              --\n",
      "=================================================================\n",
      "Total params: 27,105\n",
      "Trainable params: 27,105\n",
      "Non-trainable params: 0\n",
      "=================================================================\n"
     ]
    }
   ],
   "source": [
    "from torchinfo import summary\n",
    "# Only uses outputs of modules.\n",
    "print(summary(model))"
   ]
  },
  {
   "cell_type": "code",
   "execution_count": 11,
   "id": "ed85ceb9-9bdf-4d03-a123-59a7f5a54736",
   "metadata": {},
   "outputs": [
    {
     "name": "stderr",
     "output_type": "stream",
     "text": [
      "100%|██████████████████████████████| 100/100 [01:02<00:00,  1.59it/s, acc=0.891, val_acc=0.596]\n"
     ]
    }
   ],
   "source": [
    "loss_hist, acc_hist, val_loss_hist, val_acc_hist = train_loop(model, train, valid, device, weight_decay=1e-5)"
   ]
  },
  {
   "cell_type": "code",
   "execution_count": null,
   "id": "8a4e88bc-98a1-42dd-bc2f-97c50f4b2121",
   "metadata": {},
   "outputs": [],
   "source": []
  }
 ],
 "metadata": {
  "kernelspec": {
   "display_name": "Python 3",
   "language": "python",
   "name": "python3"
  },
  "language_info": {
   "codemirror_mode": {
    "name": "ipython",
    "version": 3
   },
   "file_extension": ".py",
   "mimetype": "text/x-python",
   "name": "python",
   "nbconvert_exporter": "python",
   "pygments_lexer": "ipython3",
   "version": "3.7.15"
  }
 },
 "nbformat": 4,
 "nbformat_minor": 5
}
